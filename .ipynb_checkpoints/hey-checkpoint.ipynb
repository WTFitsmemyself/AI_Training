{
 "cells": [
  {
   "cell_type": "code",
   "execution_count": 1,
   "id": "6654416114f0d685",
   "metadata": {
    "ExecuteTime": {
     "end_time": "2025-09-14T08:02:12.265640Z",
     "start_time": "2025-09-14T08:02:12.255041Z"
    }
   },
   "outputs": [],
   "source": [
    "def hey(x):\n",
    "    return x + 10"
   ]
  },
  {
   "cell_type": "code",
   "execution_count": 3,
   "id": "4a837b14",
   "metadata": {},
   "outputs": [
    {
     "name": "stdout",
     "output_type": "stream",
     "text": [
      "Not Gonna Happen\n"
     ]
    }
   ],
   "source": [
    "print(\"Not Gonna Happen\")"
   ]
  },
  {
   "cell_type": "code",
   "id": "2b20ff24",
   "metadata": {
    "ExecuteTime": {
     "end_time": "2025-09-14T13:20:05.752107Z",
     "start_time": "2025-09-14T13:20:05.747070Z"
    }
   },
   "source": [
    "from random import choice\n",
    "blank = '_'\n",
    "fruits = ['Banana', 'Apple', 'Kiwi']\n",
    "pc_choice = choice(fruits)\n",
    "print(pc_choice)\n",
    "for pc_choice in range(len(pc_choice)):\n",
    "    print(f\"{blank}\", end= ' ')"
   ],
   "outputs": [
    {
     "name": "stdout",
     "output_type": "stream",
     "text": [
      "Apple\n",
      "_ _ _ _ _ "
     ]
    }
   ],
   "execution_count": 6
  },
  {
   "cell_type": "code",
   "execution_count": null,
   "id": "7d8ae94c",
   "metadata": {},
   "outputs": [],
   "source": []
  }
 ],
 "metadata": {
  "kernelspec": {
   "display_name": "Python 3 (ipykernel)",
   "language": "python",
   "name": "python3"
  },
  "language_info": {
   "codemirror_mode": {
    "name": "ipython",
    "version": 3
   },
   "file_extension": ".py",
   "mimetype": "text/x-python",
   "name": "python",
   "nbconvert_exporter": "python",
   "pygments_lexer": "ipython3",
   "version": "3.10.4"
  }
 },
 "nbformat": 4,
 "nbformat_minor": 5
}
