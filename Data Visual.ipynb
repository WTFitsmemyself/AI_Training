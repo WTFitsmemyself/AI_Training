{
 "cells": [
  {
   "cell_type": "code",
   "id": "initial_id",
   "metadata": {
    "collapsed": true
   },
   "source": [
    "import pandas as pd\n",
    "import matplotlib.pyplot as plt\n",
    "\n",
    "# Sample data\n",
    "data = {\n",
    "    \"Month\": [\"Jan\", \"Feb\", \"Mar\", \"Apr\", \"May\", \"Jun\"],\n",
    "    \"Sales\": [150, 200, 250, 300, 280, 320],\n",
    "    \"Expenses\": [100, 120, 180, 220, 210, 230]\n",
    "}\n",
    "\n",
    "# Convert to DataFrame\n",
    "df = pd.DataFrame(data)\n",
    "\n",
    "# Plot line chart\n",
    "plt.figure(figsize=(10, 7))\n",
    "plt.plot(df[\"Month\"], df[\"Sales\"], marker=\"o\", label=\"Sales\")\n",
    "plt.plot(df[\"Month\"], df[\"Expenses\"], marker=\"s\", label=\"Expenses\")\n",
    "plt.title(\"Monthly Sales vs Expenses\")\n",
    "plt.xlabel(\"Month\")\n",
    "plt.ylabel(\"Amount ($)\")\n",
    "plt.legend()\n",
    "plt.grid(True)\n",
    "plt.show()\n",
    "\n",
    "# Plot bar chart\n",
    "plt.figure(figsize=(8, 5))\n",
    "plt.bar(df[\"Month\"], df[\"Sales\"], label=\"Sales\", alpha=0.7)\n",
    "plt.bar(df[\"Month\"], df[\"Expenses\"], label=\"Expenses\", alpha=0.7)\n",
    "plt.title(\"Monthly Sales vs Expenses (Bar Chart)\")\n",
    "plt.xlabel(\"Month\")\n",
    "plt.ylabel(\"Amount ($)\")\n",
    "plt.legend()\n",
    "plt.show()\n"
   ],
   "outputs": [],
   "execution_count": null
  }
 ],
 "metadata": {
  "kernelspec": {
   "display_name": "Python 3",
   "language": "python",
   "name": "python3"
  },
  "language_info": {
   "codemirror_mode": {
    "name": "ipython",
    "version": 2
   },
   "file_extension": ".py",
   "mimetype": "text/x-python",
   "name": "python",
   "nbconvert_exporter": "python",
   "pygments_lexer": "ipython2",
   "version": "2.7.6"
  }
 },
 "nbformat": 4,
 "nbformat_minor": 5
}
