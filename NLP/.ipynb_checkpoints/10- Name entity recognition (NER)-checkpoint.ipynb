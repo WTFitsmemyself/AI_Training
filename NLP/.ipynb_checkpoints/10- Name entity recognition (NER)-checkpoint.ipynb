{
 "cells": [
  {
   "cell_type": "code",
   "id": "initial_id",
   "metadata": {
    "collapsed": true,
    "ExecuteTime": {
     "end_time": "2025-09-19T10:01:47.257282Z",
     "start_time": "2025-09-19T10:01:47.253008Z"
    }
   },
   "source": [
    "import spacy\n",
    "from spacy import displacy\n",
    "from spacy import tokenizer\n",
    "import re"
   ],
   "outputs": [],
   "execution_count": 8
  },
  {
   "metadata": {
    "ExecuteTime": {
     "end_time": "2025-09-19T10:01:48.481097Z",
     "start_time": "2025-09-19T10:01:47.296745Z"
    }
   },
   "cell_type": "code",
   "source": "nlp = spacy.load('en_core_web_sm')",
   "id": "d33005e71564f0c9",
   "outputs": [],
   "execution_count": 9
  },
  {
   "metadata": {
    "ExecuteTime": {
     "end_time": "2025-09-19T10:01:48.518630Z",
     "start_time": "2025-09-19T10:01:48.506833Z"
    }
   },
   "cell_type": "code",
   "source": "google_text = \"Google was founded on September 4, 1998, by American computer scientists Larry Page and Sergey Brin. Together, they own about 14% of its publicly listed shares and control 56% of its stockholder voting power through super-voting stock. The company went public via an initial public offering (IPO) in 2004. In 2015, Google was reorganized as a wholly owned subsidiary of Alphabet Inc. Google is Alphabet's largest subsidiary and is a holding company for Alphabet's internet properties and interests. Sundar Pichai was appointed CEO of Google on October 24, 2015, replacing Larry Page, who became the CEO of Alphabet. On December 3, 2019, Pichai also became the CEO of Alphabet.\"\n",
   "id": "3c16692eef73ccf",
   "outputs": [],
   "execution_count": 10
  },
  {
   "metadata": {
    "ExecuteTime": {
     "end_time": "2025-09-19T10:01:48.550323Z",
     "start_time": "2025-09-19T10:01:48.536548Z"
    }
   },
   "cell_type": "code",
   "source": "google_text",
   "id": "550431cef79d0e86",
   "outputs": [
    {
     "data": {
      "text/plain": [
       "\"Google was founded on September 4, 1998, by American computer scientists Larry Page and Sergey Brin. Together, they own about 14% of its publicly listed shares and control 56% of its stockholder voting power through super-voting stock. The company went public via an initial public offering (IPO) in 2004. In 2015, Google was reorganized as a wholly owned subsidiary of Alphabet Inc. Google is Alphabet's largest subsidiary and is a holding company for Alphabet's internet properties and interests. Sundar Pichai was appointed CEO of Google on October 24, 2015, replacing Larry Page, who became the CEO of Alphabet. On December 3, 2019, Pichai also became the CEO of Alphabet.\""
      ]
     },
     "execution_count": 11,
     "metadata": {},
     "output_type": "execute_result"
    }
   ],
   "execution_count": 11
  },
  {
   "metadata": {
    "ExecuteTime": {
     "end_time": "2025-09-19T10:01:48.705451Z",
     "start_time": "2025-09-19T10:01:48.627273Z"
    }
   },
   "cell_type": "code",
   "source": "spacy_doc = nlp(google_text)",
   "id": "257839adaf350a4a",
   "outputs": [],
   "execution_count": 12
  },
  {
   "metadata": {
    "ExecuteTime": {
     "end_time": "2025-09-19T10:01:48.726055Z",
     "start_time": "2025-09-19T10:01:48.720386Z"
    }
   },
   "cell_type": "code",
   "source": [
    "for word in spacy_doc.ents:\n",
    "    print(word.text, word.label_)"
   ],
   "id": "d8a7c1d5e1c16ee8",
   "outputs": [
    {
     "name": "stdout",
     "output_type": "stream",
     "text": [
      "Google ORG\n",
      "September 4, 1998 DATE\n",
      "American NORP\n",
      "Larry Page PERSON\n",
      "Sergey Brin PERSON\n",
      "about 14% PERCENT\n",
      "56% PERCENT\n",
      "IPO ORG\n",
      "2004 DATE\n",
      "2015 DATE\n",
      "Google ORG\n",
      "Alphabet Inc. ORG\n",
      "Alphabet ORG\n",
      "Alphabet ORG\n",
      "Sundar Pichai PERSON\n",
      "Google ORG\n",
      "October 24, 2015 DATE\n",
      "Larry Page PERSON\n",
      "Alphabet GPE\n",
      "December 3, 2019 DATE\n",
      "Pichai PERSON\n",
      "Alphabet GPE\n"
     ]
    }
   ],
   "execution_count": 13
  },
  {
   "metadata": {
    "ExecuteTime": {
     "end_time": "2025-09-19T10:02:18.863485Z",
     "start_time": "2025-09-19T10:02:18.748380Z"
    }
   },
   "cell_type": "code",
   "source": "displacy.render(spacy_doc, style='ent', jupyter=True)",
   "id": "c986b988f528a6c6",
   "outputs": [
    {
     "ename": "ImportError",
     "evalue": "cannot import name 'display' from 'IPython.core.display' (/Users/itshosyn/AI training/venv/lib/python3.13/site-packages/IPython/core/display.py)",
     "output_type": "error",
     "traceback": [
      "\u001B[31m---------------------------------------------------------------------------\u001B[39m",
      "\u001B[31mImportError\u001B[39m                               Traceback (most recent call last)",
      "\u001B[36mCell\u001B[39m\u001B[36m \u001B[39m\u001B[32mIn[17]\u001B[39m\u001B[32m, line 1\u001B[39m\n\u001B[32m----> \u001B[39m\u001B[32m1\u001B[39m \u001B[43mdisplacy\u001B[49m\u001B[43m.\u001B[49m\u001B[43mrender\u001B[49m\u001B[43m(\u001B[49m\u001B[43mspacy_doc\u001B[49m\u001B[43m,\u001B[49m\u001B[43m \u001B[49m\u001B[43mstyle\u001B[49m\u001B[43m=\u001B[49m\u001B[33;43m'\u001B[39;49m\u001B[33;43ment\u001B[39;49m\u001B[33;43m'\u001B[39;49m\u001B[43m,\u001B[49m\u001B[43m \u001B[49m\u001B[43mjupyter\u001B[49m\u001B[43m=\u001B[49m\u001B[38;5;28;43;01mTrue\u001B[39;49;00m\u001B[43m)\u001B[49m\n",
      "\u001B[36mFile \u001B[39m\u001B[32m~/AI training/venv/lib/python3.13/site-packages/spacy/displacy/__init__.py:69\u001B[39m, in \u001B[36mrender\u001B[39m\u001B[34m(docs, style, page, minify, jupyter, options, manual)\u001B[39m\n\u001B[32m     65\u001B[39m     html = RENDER_WRAPPER(html)\n\u001B[32m     66\u001B[39m \u001B[38;5;28;01mif\u001B[39;00m jupyter \u001B[38;5;129;01mor\u001B[39;00m (jupyter \u001B[38;5;129;01mis\u001B[39;00m \u001B[38;5;28;01mNone\u001B[39;00m \u001B[38;5;129;01mand\u001B[39;00m is_in_jupyter()):\n\u001B[32m     67\u001B[39m     \u001B[38;5;66;03m# return HTML rendered by IPython display()\u001B[39;00m\n\u001B[32m     68\u001B[39m     \u001B[38;5;66;03m# See #4840 for details on span wrapper to disable mathjax\u001B[39;00m\n\u001B[32m---> \u001B[39m\u001B[32m69\u001B[39m     \u001B[38;5;28;01mfrom\u001B[39;00m\u001B[38;5;250m \u001B[39m\u001B[34;01mIPython\u001B[39;00m\u001B[34;01m.\u001B[39;00m\u001B[34;01mcore\u001B[39;00m\u001B[34;01m.\u001B[39;00m\u001B[34;01mdisplay\u001B[39;00m\u001B[38;5;250m \u001B[39m\u001B[38;5;28;01mimport\u001B[39;00m HTML, display\n\u001B[32m     71\u001B[39m     \u001B[38;5;28;01mreturn\u001B[39;00m display(HTML(\u001B[33m'\u001B[39m\u001B[33m<span class=\u001B[39m\u001B[33m\"\u001B[39m\u001B[33mtex2jax_ignore\u001B[39m\u001B[33m\"\u001B[39m\u001B[33m>\u001B[39m\u001B[38;5;132;01m{}\u001B[39;00m\u001B[33m</span>\u001B[39m\u001B[33m'\u001B[39m.format(html)))\n\u001B[32m     72\u001B[39m \u001B[38;5;28;01mreturn\u001B[39;00m html\n",
      "\u001B[31mImportError\u001B[39m: cannot import name 'display' from 'IPython.core.display' (/Users/itshosyn/AI training/venv/lib/python3.13/site-packages/IPython/core/display.py)"
     ]
    }
   ],
   "execution_count": 17
  },
  {
   "metadata": {},
   "cell_type": "code",
   "outputs": [],
   "execution_count": null,
   "source": "",
   "id": "ef6b89c8f43416d"
  }
 ],
 "metadata": {
  "kernelspec": {
   "display_name": "Python 3",
   "language": "python",
   "name": "python3"
  },
  "language_info": {
   "codemirror_mode": {
    "name": "ipython",
    "version": 2
   },
   "file_extension": ".py",
   "mimetype": "text/x-python",
   "name": "python",
   "nbconvert_exporter": "python",
   "pygments_lexer": "ipython2",
   "version": "2.7.6"
  }
 },
 "nbformat": 4,
 "nbformat_minor": 5
}
