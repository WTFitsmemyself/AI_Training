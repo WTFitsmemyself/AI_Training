{
 "cells": [
  {
   "cell_type": "code",
   "id": "initial_id",
   "metadata": {
    "collapsed": true,
    "ExecuteTime": {
     "end_time": "2025-09-15T15:30:52.724492Z",
     "start_time": "2025-09-15T15:30:52.720753Z"
    }
   },
   "source": [
    "learn_tokens = ['Learned', 'Learning', 'Learn', 'Learns', 'Learner', 'Learners']\n",
    "connect_tokens = ['Connect', 'Connecting', 'Connected', 'Connectivity', 'Connects']\n",
    "likes_tokens = ['Likes', 'Better', 'Worse']"
   ],
   "outputs": [],
   "execution_count": 8
  },
  {
   "metadata": {
    "ExecuteTime": {
     "end_time": "2025-09-15T15:30:53.318282Z",
     "start_time": "2025-09-15T15:30:52.761677Z"
    }
   },
   "cell_type": "code",
   "source": [
    "import nltk\n",
    "nltk.download('wordnet')\n",
    "from nltk.stem import WordNetLemmatizer"
   ],
   "id": "8687d95e52dbe01e",
   "outputs": [
    {
     "name": "stderr",
     "output_type": "stream",
     "text": [
      "[nltk_data] Error loading wordnet: <urlopen error [SSL:\n",
      "[nltk_data]     CERTIFICATE_VERIFY_FAILED] certificate verify failed:\n",
      "[nltk_data]     unable to get local issuer certificate (_ssl.c:1032)>\n"
     ]
    }
   ],
   "execution_count": 9
  },
  {
   "metadata": {
    "ExecuteTime": {
     "end_time": "2025-09-15T15:30:53.450553Z",
     "start_time": "2025-09-15T15:30:53.439323Z"
    }
   },
   "cell_type": "code",
   "source": "lemmatizer = WordNetLemmatizer()",
   "id": "7373a7400dfd162c",
   "outputs": [],
   "execution_count": 10
  },
  {
   "metadata": {
    "ExecuteTime": {
     "end_time": "2025-09-15T15:30:53.807185Z",
     "start_time": "2025-09-15T15:30:53.513234Z"
    }
   },
   "cell_type": "code",
   "source": [
    "for t in learn_tokens:\n",
    "    print(t, \": \",lemmatizer.lemmatize(t))"
   ],
   "id": "aa642b43723de86",
   "outputs": [
    {
     "ename": "LookupError",
     "evalue": "\n**********************************************************************\n  Resource \u001B[93mwordnet\u001B[0m not found.\n  Please use the NLTK Downloader to obtain the resource:\n\n  \u001B[31m>>> import nltk\n  >>> nltk.download('wordnet')\n  \u001B[0m\n  For more information see: https://www.nltk.org/data.html\n\n  Attempted to load \u001B[93mcorpora/wordnet\u001B[0m\n\n  Searched in:\n    - '/Users/itshosyn/nltk_data'\n    - '/Users/itshosyn/AI training/venv/nltk_data'\n    - '/Users/itshosyn/AI training/venv/share/nltk_data'\n    - '/Users/itshosyn/AI training/venv/lib/nltk_data'\n    - '/usr/share/nltk_data'\n    - '/usr/local/share/nltk_data'\n    - '/usr/lib/nltk_data'\n    - '/usr/local/lib/nltk_data'\n**********************************************************************\n",
     "output_type": "error",
     "traceback": [
      "\u001B[31m---------------------------------------------------------------------------\u001B[39m",
      "\u001B[31mLookupError\u001B[39m                               Traceback (most recent call last)",
      "\u001B[36mFile \u001B[39m\u001B[32m~/AI training/venv/lib/python3.13/site-packages/nltk/corpus/util.py:84\u001B[39m, in \u001B[36mLazyCorpusLoader.__load\u001B[39m\u001B[34m(self)\u001B[39m\n\u001B[32m     83\u001B[39m \u001B[38;5;28;01mtry\u001B[39;00m:\n\u001B[32m---> \u001B[39m\u001B[32m84\u001B[39m     root = \u001B[43mnltk\u001B[49m\u001B[43m.\u001B[49m\u001B[43mdata\u001B[49m\u001B[43m.\u001B[49m\u001B[43mfind\u001B[49m\u001B[43m(\u001B[49m\u001B[33;43mf\u001B[39;49m\u001B[33;43m\"\u001B[39;49m\u001B[38;5;132;43;01m{\u001B[39;49;00m\u001B[38;5;28;43mself\u001B[39;49m\u001B[43m.\u001B[49m\u001B[43msubdir\u001B[49m\u001B[38;5;132;43;01m}\u001B[39;49;00m\u001B[33;43m/\u001B[39;49m\u001B[38;5;132;43;01m{\u001B[39;49;00m\u001B[43mzip_name\u001B[49m\u001B[38;5;132;43;01m}\u001B[39;49;00m\u001B[33;43m\"\u001B[39;49m\u001B[43m)\u001B[49m\n\u001B[32m     85\u001B[39m \u001B[38;5;28;01mexcept\u001B[39;00m \u001B[38;5;167;01mLookupError\u001B[39;00m:\n",
      "\u001B[36mFile \u001B[39m\u001B[32m~/AI training/venv/lib/python3.13/site-packages/nltk/data.py:579\u001B[39m, in \u001B[36mfind\u001B[39m\u001B[34m(resource_name, paths)\u001B[39m\n\u001B[32m    578\u001B[39m resource_not_found = \u001B[33mf\u001B[39m\u001B[33m\"\u001B[39m\u001B[38;5;130;01m\\n\u001B[39;00m\u001B[38;5;132;01m{\u001B[39;00msep\u001B[38;5;132;01m}\u001B[39;00m\u001B[38;5;130;01m\\n\u001B[39;00m\u001B[38;5;132;01m{\u001B[39;00mmsg\u001B[38;5;132;01m}\u001B[39;00m\u001B[38;5;130;01m\\n\u001B[39;00m\u001B[38;5;132;01m{\u001B[39;00msep\u001B[38;5;132;01m}\u001B[39;00m\u001B[38;5;130;01m\\n\u001B[39;00m\u001B[33m\"\u001B[39m\n\u001B[32m--> \u001B[39m\u001B[32m579\u001B[39m \u001B[38;5;28;01mraise\u001B[39;00m \u001B[38;5;167;01mLookupError\u001B[39;00m(resource_not_found)\n",
      "\u001B[31mLookupError\u001B[39m: \n**********************************************************************\n  Resource \u001B[93mwordnet\u001B[0m not found.\n  Please use the NLTK Downloader to obtain the resource:\n\n  \u001B[31m>>> import nltk\n  >>> nltk.download('wordnet')\n  \u001B[0m\n  For more information see: https://www.nltk.org/data.html\n\n  Attempted to load \u001B[93mcorpora/wordnet.zip/wordnet/\u001B[0m\n\n  Searched in:\n    - '/Users/itshosyn/nltk_data'\n    - '/Users/itshosyn/AI training/venv/nltk_data'\n    - '/Users/itshosyn/AI training/venv/share/nltk_data'\n    - '/Users/itshosyn/AI training/venv/lib/nltk_data'\n    - '/usr/share/nltk_data'\n    - '/usr/local/share/nltk_data'\n    - '/usr/lib/nltk_data'\n    - '/usr/local/lib/nltk_data'\n**********************************************************************\n",
      "\nDuring handling of the above exception, another exception occurred:\n",
      "\u001B[31mLookupError\u001B[39m                               Traceback (most recent call last)",
      "\u001B[36mCell\u001B[39m\u001B[36m \u001B[39m\u001B[32mIn[11]\u001B[39m\u001B[32m, line 2\u001B[39m\n\u001B[32m      1\u001B[39m \u001B[38;5;28;01mfor\u001B[39;00m t \u001B[38;5;129;01min\u001B[39;00m learn_tokens:\n\u001B[32m----> \u001B[39m\u001B[32m2\u001B[39m     \u001B[38;5;28mprint\u001B[39m(t, \u001B[33m\"\u001B[39m\u001B[33m: \u001B[39m\u001B[33m\"\u001B[39m,\u001B[43mlemmatizer\u001B[49m\u001B[43m.\u001B[49m\u001B[43mlemmatize\u001B[49m\u001B[43m(\u001B[49m\u001B[43mt\u001B[49m\u001B[43m)\u001B[49m)\n",
      "\u001B[36mFile \u001B[39m\u001B[32m~/AI training/venv/lib/python3.13/site-packages/nltk/stem/wordnet.py:85\u001B[39m, in \u001B[36mWordNetLemmatizer.lemmatize\u001B[39m\u001B[34m(self, word, pos)\u001B[39m\n\u001B[32m     60\u001B[39m \u001B[38;5;28;01mdef\u001B[39;00m\u001B[38;5;250m \u001B[39m\u001B[34mlemmatize\u001B[39m(\u001B[38;5;28mself\u001B[39m, word: \u001B[38;5;28mstr\u001B[39m, pos: \u001B[38;5;28mstr\u001B[39m = \u001B[33m\"\u001B[39m\u001B[33mn\u001B[39m\u001B[33m\"\u001B[39m) -> \u001B[38;5;28mstr\u001B[39m:\n\u001B[32m     61\u001B[39m \u001B[38;5;250m    \u001B[39m\u001B[33;03m\"\"\"Lemmatize `word` by picking the shortest of the possible lemmas,\u001B[39;00m\n\u001B[32m     62\u001B[39m \u001B[33;03m    using the wordnet corpus reader's built-in _morphy function.\u001B[39;00m\n\u001B[32m     63\u001B[39m \u001B[33;03m    Returns the input word unchanged if it cannot be found in WordNet.\u001B[39;00m\n\u001B[32m   (...)\u001B[39m\u001B[32m     83\u001B[39m \u001B[33;03m    :return: The shortest lemma of `word`, for the given `pos`.\u001B[39;00m\n\u001B[32m     84\u001B[39m \u001B[33;03m    \"\"\"\u001B[39;00m\n\u001B[32m---> \u001B[39m\u001B[32m85\u001B[39m     lemmas = \u001B[38;5;28;43mself\u001B[39;49m\u001B[43m.\u001B[49m\u001B[43m_morphy\u001B[49m\u001B[43m(\u001B[49m\u001B[43mword\u001B[49m\u001B[43m,\u001B[49m\u001B[43m \u001B[49m\u001B[43mpos\u001B[49m\u001B[43m)\u001B[49m\n\u001B[32m     86\u001B[39m     \u001B[38;5;28;01mreturn\u001B[39;00m \u001B[38;5;28mmin\u001B[39m(lemmas, key=\u001B[38;5;28mlen\u001B[39m) \u001B[38;5;28;01mif\u001B[39;00m lemmas \u001B[38;5;28;01melse\u001B[39;00m word\n",
      "\u001B[36mFile \u001B[39m\u001B[32m~/AI training/venv/lib/python3.13/site-packages/nltk/stem/wordnet.py:41\u001B[39m, in \u001B[36mWordNetLemmatizer._morphy\u001B[39m\u001B[34m(self, form, pos, check_exceptions)\u001B[39m\n\u001B[32m     31\u001B[39m \u001B[38;5;250m\u001B[39m\u001B[33;03m\"\"\"\u001B[39;00m\n\u001B[32m     32\u001B[39m \u001B[33;03m_morphy() is WordNet's _morphy lemmatizer.\u001B[39;00m\n\u001B[32m     33\u001B[39m \u001B[33;03mIt returns a list of all lemmas found in WordNet.\u001B[39;00m\n\u001B[32m   (...)\u001B[39m\u001B[32m     37\u001B[39m \u001B[33;03m['us', 'u']\u001B[39;00m\n\u001B[32m     38\u001B[39m \u001B[33;03m\"\"\"\u001B[39;00m\n\u001B[32m     39\u001B[39m \u001B[38;5;28;01mfrom\u001B[39;00m\u001B[38;5;250m \u001B[39m\u001B[34;01mnltk\u001B[39;00m\u001B[34;01m.\u001B[39;00m\u001B[34;01mcorpus\u001B[39;00m\u001B[38;5;250m \u001B[39m\u001B[38;5;28;01mimport\u001B[39;00m wordnet \u001B[38;5;28;01mas\u001B[39;00m wn\n\u001B[32m---> \u001B[39m\u001B[32m41\u001B[39m \u001B[38;5;28;01mreturn\u001B[39;00m \u001B[43mwn\u001B[49m\u001B[43m.\u001B[49m\u001B[43m_morphy\u001B[49m(form, pos, check_exceptions)\n",
      "\u001B[36mFile \u001B[39m\u001B[32m~/AI training/venv/lib/python3.13/site-packages/nltk/corpus/util.py:120\u001B[39m, in \u001B[36mLazyCorpusLoader.__getattr__\u001B[39m\u001B[34m(self, attr)\u001B[39m\n\u001B[32m    117\u001B[39m \u001B[38;5;28;01mif\u001B[39;00m attr == \u001B[33m\"\u001B[39m\u001B[33m__bases__\u001B[39m\u001B[33m\"\u001B[39m:\n\u001B[32m    118\u001B[39m     \u001B[38;5;28;01mraise\u001B[39;00m \u001B[38;5;167;01mAttributeError\u001B[39;00m(\u001B[33m\"\u001B[39m\u001B[33mLazyCorpusLoader object has no attribute \u001B[39m\u001B[33m'\u001B[39m\u001B[33m__bases__\u001B[39m\u001B[33m'\u001B[39m\u001B[33m\"\u001B[39m)\n\u001B[32m--> \u001B[39m\u001B[32m120\u001B[39m \u001B[38;5;28;43mself\u001B[39;49m\u001B[43m.\u001B[49m\u001B[43m__load\u001B[49m\u001B[43m(\u001B[49m\u001B[43m)\u001B[49m\n\u001B[32m    121\u001B[39m \u001B[38;5;66;03m# This looks circular, but its not, since __load() changes our\u001B[39;00m\n\u001B[32m    122\u001B[39m \u001B[38;5;66;03m# __class__ to something new:\u001B[39;00m\n\u001B[32m    123\u001B[39m \u001B[38;5;28;01mreturn\u001B[39;00m \u001B[38;5;28mgetattr\u001B[39m(\u001B[38;5;28mself\u001B[39m, attr)\n",
      "\u001B[36mFile \u001B[39m\u001B[32m~/AI training/venv/lib/python3.13/site-packages/nltk/corpus/util.py:86\u001B[39m, in \u001B[36mLazyCorpusLoader.__load\u001B[39m\u001B[34m(self)\u001B[39m\n\u001B[32m     84\u001B[39m             root = nltk.data.find(\u001B[33mf\u001B[39m\u001B[33m\"\u001B[39m\u001B[38;5;132;01m{\u001B[39;00m\u001B[38;5;28mself\u001B[39m.subdir\u001B[38;5;132;01m}\u001B[39;00m\u001B[33m/\u001B[39m\u001B[38;5;132;01m{\u001B[39;00mzip_name\u001B[38;5;132;01m}\u001B[39;00m\u001B[33m\"\u001B[39m)\n\u001B[32m     85\u001B[39m         \u001B[38;5;28;01mexcept\u001B[39;00m \u001B[38;5;167;01mLookupError\u001B[39;00m:\n\u001B[32m---> \u001B[39m\u001B[32m86\u001B[39m             \u001B[38;5;28;01mraise\u001B[39;00m e\n\u001B[32m     88\u001B[39m \u001B[38;5;66;03m# Load the corpus.\u001B[39;00m\n\u001B[32m     89\u001B[39m corpus = \u001B[38;5;28mself\u001B[39m.__reader_cls(root, *\u001B[38;5;28mself\u001B[39m.__args, **\u001B[38;5;28mself\u001B[39m.__kwargs)\n",
      "\u001B[36mFile \u001B[39m\u001B[32m~/AI training/venv/lib/python3.13/site-packages/nltk/corpus/util.py:81\u001B[39m, in \u001B[36mLazyCorpusLoader.__load\u001B[39m\u001B[34m(self)\u001B[39m\n\u001B[32m     79\u001B[39m \u001B[38;5;28;01melse\u001B[39;00m:\n\u001B[32m     80\u001B[39m     \u001B[38;5;28;01mtry\u001B[39;00m:\n\u001B[32m---> \u001B[39m\u001B[32m81\u001B[39m         root = \u001B[43mnltk\u001B[49m\u001B[43m.\u001B[49m\u001B[43mdata\u001B[49m\u001B[43m.\u001B[49m\u001B[43mfind\u001B[49m\u001B[43m(\u001B[49m\u001B[33;43mf\u001B[39;49m\u001B[33;43m\"\u001B[39;49m\u001B[38;5;132;43;01m{\u001B[39;49;00m\u001B[38;5;28;43mself\u001B[39;49m\u001B[43m.\u001B[49m\u001B[43msubdir\u001B[49m\u001B[38;5;132;43;01m}\u001B[39;49;00m\u001B[33;43m/\u001B[39;49m\u001B[38;5;132;43;01m{\u001B[39;49;00m\u001B[38;5;28;43mself\u001B[39;49m\u001B[43m.\u001B[49m\u001B[43m__name\u001B[49m\u001B[38;5;132;43;01m}\u001B[39;49;00m\u001B[33;43m\"\u001B[39;49m\u001B[43m)\u001B[49m\n\u001B[32m     82\u001B[39m     \u001B[38;5;28;01mexcept\u001B[39;00m \u001B[38;5;167;01mLookupError\u001B[39;00m \u001B[38;5;28;01mas\u001B[39;00m e:\n\u001B[32m     83\u001B[39m         \u001B[38;5;28;01mtry\u001B[39;00m:\n",
      "\u001B[36mFile \u001B[39m\u001B[32m~/AI training/venv/lib/python3.13/site-packages/nltk/data.py:579\u001B[39m, in \u001B[36mfind\u001B[39m\u001B[34m(resource_name, paths)\u001B[39m\n\u001B[32m    577\u001B[39m sep = \u001B[33m\"\u001B[39m\u001B[33m*\u001B[39m\u001B[33m\"\u001B[39m * \u001B[32m70\u001B[39m\n\u001B[32m    578\u001B[39m resource_not_found = \u001B[33mf\u001B[39m\u001B[33m\"\u001B[39m\u001B[38;5;130;01m\\n\u001B[39;00m\u001B[38;5;132;01m{\u001B[39;00msep\u001B[38;5;132;01m}\u001B[39;00m\u001B[38;5;130;01m\\n\u001B[39;00m\u001B[38;5;132;01m{\u001B[39;00mmsg\u001B[38;5;132;01m}\u001B[39;00m\u001B[38;5;130;01m\\n\u001B[39;00m\u001B[38;5;132;01m{\u001B[39;00msep\u001B[38;5;132;01m}\u001B[39;00m\u001B[38;5;130;01m\\n\u001B[39;00m\u001B[33m\"\u001B[39m\n\u001B[32m--> \u001B[39m\u001B[32m579\u001B[39m \u001B[38;5;28;01mraise\u001B[39;00m \u001B[38;5;167;01mLookupError\u001B[39;00m(resource_not_found)\n",
      "\u001B[31mLookupError\u001B[39m: \n**********************************************************************\n  Resource \u001B[93mwordnet\u001B[0m not found.\n  Please use the NLTK Downloader to obtain the resource:\n\n  \u001B[31m>>> import nltk\n  >>> nltk.download('wordnet')\n  \u001B[0m\n  For more information see: https://www.nltk.org/data.html\n\n  Attempted to load \u001B[93mcorpora/wordnet\u001B[0m\n\n  Searched in:\n    - '/Users/itshosyn/nltk_data'\n    - '/Users/itshosyn/AI training/venv/nltk_data'\n    - '/Users/itshosyn/AI training/venv/share/nltk_data'\n    - '/Users/itshosyn/AI training/venv/lib/nltk_data'\n    - '/usr/share/nltk_data'\n    - '/usr/local/share/nltk_data'\n    - '/usr/lib/nltk_data'\n    - '/usr/local/lib/nltk_data'\n**********************************************************************\n"
     ]
    }
   ],
   "execution_count": 11
  },
  {
   "metadata": {},
   "cell_type": "code",
   "outputs": [],
   "execution_count": null,
   "source": "",
   "id": "43e833773391cec"
  },
  {
   "metadata": {},
   "cell_type": "code",
   "outputs": [],
   "execution_count": null,
   "source": "",
   "id": "48fb4004aaad2170"
  }
 ],
 "metadata": {
  "kernelspec": {
   "display_name": "Python 3",
   "language": "python",
   "name": "python3"
  },
  "language_info": {
   "codemirror_mode": {
    "name": "ipython",
    "version": 2
   },
   "file_extension": ".py",
   "mimetype": "text/x-python",
   "name": "python",
   "nbconvert_exporter": "python",
   "pygments_lexer": "ipython2",
   "version": "2.7.6"
  }
 },
 "nbformat": 4,
 "nbformat_minor": 5
}
