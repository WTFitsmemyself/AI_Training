{
 "cells": [
  {
   "cell_type": "code",
   "id": "initial_id",
   "metadata": {
    "collapsed": true,
    "jupyter": {
     "is_executing": true
    },
    "ExecuteTime": {
     "start_time": "2025-09-16T15:03:41.500659Z"
    }
   },
   "source": [
    "import pandas as pd\n",
    "import spacy"
   ],
   "outputs": [],
   "execution_count": null
  },
  {
   "metadata": {
    "ExecuteTime": {
     "end_time": "2025-09-16T14:38:09.871641Z",
     "start_time": "2025-09-16T14:38:09.783592Z"
    }
   },
   "cell_type": "code",
   "source": "nlp = spacy.load(\"en_core_web_sm\")",
   "id": "84a551598fd95550",
   "outputs": [
    {
     "ename": "OSError",
     "evalue": "[E050] Can't find model 'en_core_web_sm'. It doesn't seem to be a Python package or a valid path to a data directory.",
     "output_type": "error",
     "traceback": [
      "\u001B[31m---------------------------------------------------------------------------\u001B[39m",
      "\u001B[31mOSError\u001B[39m                                   Traceback (most recent call last)",
      "\u001B[36mCell\u001B[39m\u001B[36m \u001B[39m\u001B[32mIn[7]\u001B[39m\u001B[32m, line 1\u001B[39m\n\u001B[32m----> \u001B[39m\u001B[32m1\u001B[39m nlp = \u001B[43mspacy\u001B[49m\u001B[43m.\u001B[49m\u001B[43mload\u001B[49m\u001B[43m(\u001B[49m\u001B[33;43m\"\u001B[39;49m\u001B[33;43men_core_web_sm\u001B[39;49m\u001B[33;43m\"\u001B[39;49m\u001B[43m)\u001B[49m\n",
      "\u001B[36mFile \u001B[39m\u001B[32m~/AI training/venv/lib/python3.13/site-packages/spacy/__init__.py:52\u001B[39m, in \u001B[36mload\u001B[39m\u001B[34m(name, vocab, disable, enable, exclude, config)\u001B[39m\n\u001B[32m     28\u001B[39m \u001B[38;5;28;01mdef\u001B[39;00m\u001B[38;5;250m \u001B[39m\u001B[34mload\u001B[39m(\n\u001B[32m     29\u001B[39m     name: Union[\u001B[38;5;28mstr\u001B[39m, Path],\n\u001B[32m     30\u001B[39m     *,\n\u001B[32m   (...)\u001B[39m\u001B[32m     35\u001B[39m     config: Union[Dict[\u001B[38;5;28mstr\u001B[39m, Any], Config] = util.SimpleFrozenDict(),\n\u001B[32m     36\u001B[39m ) -> Language:\n\u001B[32m     37\u001B[39m \u001B[38;5;250m    \u001B[39m\u001B[33;03m\"\"\"Load a spaCy model from an installed package or a local path.\u001B[39;00m\n\u001B[32m     38\u001B[39m \n\u001B[32m     39\u001B[39m \u001B[33;03m    name (str): Package name or model path.\u001B[39;00m\n\u001B[32m   (...)\u001B[39m\u001B[32m     50\u001B[39m \u001B[33;03m    RETURNS (Language): The loaded nlp object.\u001B[39;00m\n\u001B[32m     51\u001B[39m \u001B[33;03m    \"\"\"\u001B[39;00m\n\u001B[32m---> \u001B[39m\u001B[32m52\u001B[39m     \u001B[38;5;28;01mreturn\u001B[39;00m \u001B[43mutil\u001B[49m\u001B[43m.\u001B[49m\u001B[43mload_model\u001B[49m\u001B[43m(\u001B[49m\n\u001B[32m     53\u001B[39m \u001B[43m        \u001B[49m\u001B[43mname\u001B[49m\u001B[43m,\u001B[49m\n\u001B[32m     54\u001B[39m \u001B[43m        \u001B[49m\u001B[43mvocab\u001B[49m\u001B[43m=\u001B[49m\u001B[43mvocab\u001B[49m\u001B[43m,\u001B[49m\n\u001B[32m     55\u001B[39m \u001B[43m        \u001B[49m\u001B[43mdisable\u001B[49m\u001B[43m=\u001B[49m\u001B[43mdisable\u001B[49m\u001B[43m,\u001B[49m\n\u001B[32m     56\u001B[39m \u001B[43m        \u001B[49m\u001B[43menable\u001B[49m\u001B[43m=\u001B[49m\u001B[43menable\u001B[49m\u001B[43m,\u001B[49m\n\u001B[32m     57\u001B[39m \u001B[43m        \u001B[49m\u001B[43mexclude\u001B[49m\u001B[43m=\u001B[49m\u001B[43mexclude\u001B[49m\u001B[43m,\u001B[49m\n\u001B[32m     58\u001B[39m \u001B[43m        \u001B[49m\u001B[43mconfig\u001B[49m\u001B[43m=\u001B[49m\u001B[43mconfig\u001B[49m\u001B[43m,\u001B[49m\n\u001B[32m     59\u001B[39m \u001B[43m    \u001B[49m\u001B[43m)\u001B[49m\n",
      "\u001B[36mFile \u001B[39m\u001B[32m~/AI training/venv/lib/python3.13/site-packages/spacy/util.py:484\u001B[39m, in \u001B[36mload_model\u001B[39m\u001B[34m(name, vocab, disable, enable, exclude, config)\u001B[39m\n\u001B[32m    482\u001B[39m \u001B[38;5;28;01mif\u001B[39;00m name \u001B[38;5;129;01min\u001B[39;00m OLD_MODEL_SHORTCUTS:\n\u001B[32m    483\u001B[39m     \u001B[38;5;28;01mraise\u001B[39;00m \u001B[38;5;167;01mIOError\u001B[39;00m(Errors.E941.format(name=name, full=OLD_MODEL_SHORTCUTS[name]))  \u001B[38;5;66;03m# type: ignore[index]\u001B[39;00m\n\u001B[32m--> \u001B[39m\u001B[32m484\u001B[39m \u001B[38;5;28;01mraise\u001B[39;00m \u001B[38;5;167;01mIOError\u001B[39;00m(Errors.E050.format(name=name))\n",
      "\u001B[31mOSError\u001B[39m: [E050] Can't find model 'en_core_web_sm'. It doesn't seem to be a Python package or a valid path to a data directory."
     ]
    }
   ],
   "execution_count": 7
  },
  {
   "metadata": {
    "ExecuteTime": {
     "end_time": "2025-09-16T14:38:11.417668Z",
     "start_time": "2025-09-16T14:38:11.413583Z"
    }
   },
   "cell_type": "code",
   "source": "text = \"Life often presents us with challenges that seem overwhelming, but it is in those very moments that our strength is revealed. Every obstacle carries within it an opportunity—not only to grow, but to inspire others by the way we rise. Success is not measured solely by what we achieve, but by the resilience we show, the kindness we extend, and the courage we display when the path ahead feels uncertain. Let us remember that each small step forward is still progress, and together, with determination and hope, we can turn difficulties into stepping stones toward a brighter tomorrow.\"",
   "id": "2b1e25de2d485ecc",
   "outputs": [],
   "execution_count": 8
  },
  {
   "metadata": {},
   "cell_type": "code",
   "outputs": [],
   "execution_count": null,
   "source": "",
   "id": "cfa5344f06985557"
  }
 ],
 "metadata": {
  "kernelspec": {
   "display_name": "Python 3",
   "language": "python",
   "name": "python3"
  },
  "language_info": {
   "codemirror_mode": {
    "name": "ipython",
    "version": 2
   },
   "file_extension": ".py",
   "mimetype": "text/x-python",
   "name": "python",
   "nbconvert_exporter": "python",
   "pygments_lexer": "ipython2",
   "version": "2.7.6"
  }
 },
 "nbformat": 4,
 "nbformat_minor": 5
}
