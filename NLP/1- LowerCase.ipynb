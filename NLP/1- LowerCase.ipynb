{
 "cells": [
  {
   "cell_type": "code",
   "id": "initial_id",
   "metadata": {
    "collapsed": true,
    "ExecuteTime": {
     "end_time": "2025-09-14T13:54:24.279823Z",
     "start_time": "2025-09-14T13:54:24.276358Z"
    }
   },
   "source": "sentence = 'Her cat name is Luna'",
   "outputs": [],
   "execution_count": 5
  },
  {
   "metadata": {
    "ExecuteTime": {
     "end_time": "2025-09-14T13:54:24.341312Z",
     "start_time": "2025-09-14T13:54:24.337173Z"
    }
   },
   "cell_type": "code",
   "source": "lower_sentence = sentence.lower()",
   "id": "a697e378bee19921",
   "outputs": [],
   "execution_count": 6
  },
  {
   "metadata": {
    "ExecuteTime": {
     "end_time": "2025-09-14T13:54:24.377767Z",
     "start_time": "2025-09-14T13:54:24.372297Z"
    }
   },
   "cell_type": "code",
   "source": "print(lower_sentence)",
   "id": "7a9bbc4bbf3d1d02",
   "outputs": [
    {
     "name": "stdout",
     "output_type": "stream",
     "text": [
      "her cat name is luna\n"
     ]
    }
   ],
   "execution_count": 7
  },
  {
   "metadata": {
    "ExecuteTime": {
     "end_time": "2025-09-14T13:58:54.216380Z",
     "start_time": "2025-09-14T13:58:54.212038Z"
    }
   },
   "cell_type": "code",
   "source": [
    "sentence_list = [\n",
    "    'Her cat name is Luna',\n",
    "    'Her cat name is Maria',\n",
    "    'Her DOG name is Mark',\n",
    "]\n",
    "lower_sentence_list = [x.lower() for x in sentence_list]\n",
    "print(lower_sentence_list)"
   ],
   "id": "47e32741e887577d",
   "outputs": [
    {
     "name": "stdout",
     "output_type": "stream",
     "text": [
      "['her cat name is luna', 'her cat name is maria', 'her dog name is mark']\n"
     ]
    }
   ],
   "execution_count": 15
  }
 ],
 "metadata": {
  "kernelspec": {
   "display_name": "Python 3",
   "language": "python",
   "name": "python3"
  },
  "language_info": {
   "codemirror_mode": {
    "name": "ipython",
    "version": 2
   },
   "file_extension": ".py",
   "mimetype": "text/x-python",
   "name": "python",
   "nbconvert_exporter": "python",
   "pygments_lexer": "ipython2",
   "version": "2.7.6"
  }
 },
 "nbformat": 4,
 "nbformat_minor": 5
}
