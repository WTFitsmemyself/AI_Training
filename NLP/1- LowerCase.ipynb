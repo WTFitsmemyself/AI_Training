{
 "cells": [
  {
   "cell_type": "code",
   "id": "initial_id",
   "metadata": {
    "collapsed": true,
    "ExecuteTime": {
     "end_time": "2025-09-15T11:29:37.752662Z",
     "start_time": "2025-09-15T11:29:37.748973Z"
    }
   },
   "source": "sentence = 'AMIN is HeRe'",
   "outputs": [],
   "execution_count": 4
  },
  {
   "metadata": {
    "ExecuteTime": {
     "end_time": "2025-09-15T11:29:38.219367Z",
     "start_time": "2025-09-15T11:29:38.216301Z"
    }
   },
   "cell_type": "code",
   "source": "lower_sentence = sentence.lower()",
   "id": "a697e378bee19921",
   "outputs": [],
   "execution_count": 5
  },
  {
   "metadata": {
    "ExecuteTime": {
     "end_time": "2025-09-15T11:29:38.726213Z",
     "start_time": "2025-09-15T11:29:38.721727Z"
    }
   },
   "cell_type": "code",
   "source": "print(lower_sentence)",
   "id": "7a9bbc4bbf3d1d02",
   "outputs": [
    {
     "name": "stdout",
     "output_type": "stream",
     "text": [
      "amin is here\n"
     ]
    }
   ],
   "execution_count": 6
  },
  {
   "metadata": {
    "ExecuteTime": {
     "end_time": "2025-09-15T11:30:08.062598Z",
     "start_time": "2025-09-15T11:30:08.057861Z"
    }
   },
   "cell_type": "code",
   "source": [
    "sentence_list = [\n",
    "    'Her cat name is Luna',\n",
    "    'Whats UP bro',\n",
    "    'Her DOG Name is Mark',\n",
    "]\n",
    "lower_sentence_list = [x.lower() for x in sentence_list]\n",
    "print(lower_sentence_list)"
   ],
   "id": "47e32741e887577d",
   "outputs": [
    {
     "name": "stdout",
     "output_type": "stream",
     "text": [
      "['her cat name is luna', 'whats up bro', 'her dog name is mark']\n"
     ]
    }
   ],
   "execution_count": 7
  }
 ],
 "metadata": {
  "kernelspec": {
   "display_name": "Python 3",
   "language": "python",
   "name": "python3"
  },
  "language_info": {
   "codemirror_mode": {
    "name": "ipython",
    "version": 2
   },
   "file_extension": ".py",
   "mimetype": "text/x-python",
   "name": "python",
   "nbconvert_exporter": "python",
   "pygments_lexer": "ipython2",
   "version": "2.7.6"
  }
 },
 "nbformat": 4,
 "nbformat_minor": 5
}
