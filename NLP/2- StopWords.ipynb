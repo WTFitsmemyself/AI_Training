{
 "cells": [
  {
   "cell_type": "code",
   "id": "initial_id",
   "metadata": {
    "collapsed": true
   },
   "source": [
    "import nltk\n",
    "nltk.download('stopwords')\n",
    "from nltk.corpus import stopwords"
   ],
   "outputs": [],
   "execution_count": null
  },
  {
   "metadata": {},
   "cell_type": "code",
   "source": "en_stopwords = stopwords.words('english')",
   "id": "6e0316e1ce842acc",
   "outputs": [],
   "execution_count": null
  },
  {
   "metadata": {},
   "cell_type": "code",
   "source": "print(en_stopwords)",
   "id": "11c9e93332b12908",
   "outputs": [],
   "execution_count": null
  },
  {
   "metadata": {
    "ExecuteTime": {
     "end_time": "2025-09-14T14:18:12.716825Z",
     "start_time": "2025-09-14T14:18:12.713195Z"
    }
   },
   "cell_type": "code",
   "source": "sentence = 'it was too far to go to the shop and he did not want her to walk'",
   "id": "84bd82f6c4d28582",
   "outputs": [],
   "execution_count": 17
  },
  {
   "metadata": {
    "ExecuteTime": {
     "end_time": "2025-09-14T14:26:22.835457Z",
     "start_time": "2025-09-14T14:26:22.831552Z"
    }
   },
   "cell_type": "code",
   "source": "sentence_no_stopwords = ' '.join([word for word in sentence.split() if word not in en_stopwords])",
   "id": "883ec920bb53e7e3",
   "outputs": [],
   "execution_count": 20
  },
  {
   "metadata": {
    "ExecuteTime": {
     "end_time": "2025-09-14T14:26:23.928690Z",
     "start_time": "2025-09-14T14:26:23.923286Z"
    }
   },
   "cell_type": "code",
   "source": "print(sentence_no_stopwords)",
   "id": "34ce80a3647c8e89",
   "outputs": [
    {
     "name": "stdout",
     "output_type": "stream",
     "text": [
      "far go shop want walk\n"
     ]
    }
   ],
   "execution_count": 21
  },
  {
   "metadata": {},
   "cell_type": "code",
   "outputs": [],
   "execution_count": null,
   "source": [
    "en_stopwords.remove(\"etwas\") #For removing a word in list\n",
    "en_stopwords.append(\"etwas\") #For adding a word in list"
   ],
   "id": "5f3752e4c5241213"
  }
 ],
 "metadata": {
  "kernelspec": {
   "display_name": "Python 3",
   "language": "python",
   "name": "python3"
  },
  "language_info": {
   "codemirror_mode": {
    "name": "ipython",
    "version": 2
   },
   "file_extension": ".py",
   "mimetype": "text/x-python",
   "name": "python",
   "nbconvert_exporter": "python",
   "pygments_lexer": "ipython2",
   "version": "2.7.6"
  }
 },
 "nbformat": 4,
 "nbformat_minor": 5
}
