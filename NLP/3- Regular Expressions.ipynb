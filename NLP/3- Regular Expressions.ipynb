{
 "cells": [
  {
   "cell_type": "code",
   "id": "initial_id",
   "metadata": {
    "collapsed": true
   },
   "source": "import re",
   "outputs": [],
   "execution_count": null
  },
  {
   "metadata": {},
   "cell_type": "code",
   "source": [
    "my_folder = r\"C:\\Users\\notes\"\n",
    "print(my_folder)"
   ],
   "id": "1b5790ac9ba832ef",
   "outputs": [],
   "execution_count": null
  },
  {
   "metadata": {},
   "cell_type": "code",
   "source": [
    "result_search = re.search(\"contain\", \"string to contain pattern\")\n",
    "print(result_search)"
   ],
   "id": "449d03f99514c5e8",
   "outputs": [],
   "execution_count": null
  },
  {
   "metadata": {},
   "cell_type": "code",
   "source": [
    "result_search_2 = re.search(\"Hello\", \"there is nothing here\")\n",
    "print(result_search_2)"
   ],
   "id": "77102950a6bdd895",
   "outputs": [],
   "execution_count": null
  },
  {
   "metadata": {},
   "cell_type": "code",
   "source": [
    "string_rand = r\"hossein is here\"\n",
    "print(re.sub(\"hossein\", \"Roya\", string_rand))"
   ],
   "id": "ed6f5a2d33a3818a",
   "outputs": [],
   "execution_count": null
  },
  {
   "metadata": {},
   "cell_type": "code",
   "source": [
    "customer_reviews = [\n",
    "    \"Anna is incredibly creative and detail-oriented. She transformed our project with fresh ideas we hadn’t even considered.\",\n",
    "    \"a Working with Anna was smooth and professional. She sometimes takes her time, but the results are always worth it.\",\n",
    "    \"David is reliable and efficient. He always delivers before deadlines without compromising quality.\",\n",
    "    \"His communication could be clearer at times, but wanted his technical skills are outstanding.\",\n",
    "    \"Sofia has a natural talent for connecting with people and making teamwork enjoyable.\",\n",
    "    \"Sofia brought so much needed positive energy to the group, though she tends to get a bit perfectionist.\"\n",
    "]"
   ],
   "id": "f78bb01a902b715a",
   "outputs": [],
   "execution_count": null
  },
  {
   "metadata": {},
   "cell_type": "code",
   "source": "sofia_reviews = []",
   "id": "acb5b7cb6699a371",
   "outputs": [],
   "execution_count": null
  },
  {
   "metadata": {},
   "cell_type": "code",
   "source": "pattern_to_find = r\"Sofi?\"",
   "id": "fee4c62f8ad2ac7b",
   "outputs": [],
   "execution_count": null
  },
  {
   "metadata": {},
   "cell_type": "code",
   "source": [
    "for string in customer_reviews:\n",
    "    if re.search(pattern_to_find, string):\n",
    "        sofia_reviews.append(string.lower())"
   ],
   "id": "f4de4548bba6ed5e",
   "outputs": [],
   "execution_count": null
  },
  {
   "metadata": {},
   "cell_type": "code",
   "source": "print(sofia_reviews)",
   "id": "f290417101d018b",
   "outputs": [],
   "execution_count": null
  },
  {
   "metadata": {},
   "cell_type": "code",
   "source": [
    "a_reviews = []\n",
    "pattern_to_find = r\"^A\"\n",
    "for string in customer_reviews:\n",
    "    if re.search(pattern_to_find, string):\n",
    "        a_reviews.append(string.lower())\n",
    "\n",
    "print(a_reviews)"
   ],
   "id": "6e65cf16868ac96a",
   "outputs": [],
   "execution_count": null
  },
  {
   "metadata": {},
   "cell_type": "code",
   "source": [
    "y_reviews = []\n",
    "pattern_to_find = r\"y.$\"\n",
    "for string in customer_reviews:\n",
    "    if re.search(pattern_to_find, string):\n",
    "        y_reviews.append(string)\n",
    "\n",
    "print(y_reviews)"
   ],
   "id": "77644f4041da5fd",
   "outputs": [],
   "execution_count": null
  },
  {
   "metadata": {},
   "cell_type": "code",
   "source": [
    "needwant_reviews = []\n",
    "pattern_to_find = r\"(need|want)ed\"\n",
    "for string in customer_reviews:\n",
    "    if re.search(pattern_to_find, string):\n",
    "        needwant_reviews.append(string.lower())\n",
    "\n",
    "print(needwant_reviews)"
   ],
   "id": "2e081b2dd8a63963",
   "outputs": [],
   "execution_count": null
  },
  {
   "metadata": {},
   "cell_type": "code",
   "source": [
    "no_punc_reviews = []\n",
    "pattern_to_find = r\"[^\\w\\s]\"\n",
    "for string in customer_reviews:\n",
    "    no_punc_string = re.sub(pattern_to_find, \" \", string)\n",
    "    no_punc_reviews.append(no_punc_string)\n",
    "\n",
    "print(no_punc_reviews)"
   ],
   "id": "4cd4c9b2a89f76d4",
   "outputs": [],
   "execution_count": null
  }
 ],
 "metadata": {
  "kernelspec": {
   "display_name": "Python 3",
   "language": "python",
   "name": "python3"
  },
  "language_info": {
   "codemirror_mode": {
    "name": "ipython",
    "version": 2
   },
   "file_extension": ".py",
   "mimetype": "text/x-python",
   "name": "python",
   "nbconvert_exporter": "python",
   "pygments_lexer": "ipython2",
   "version": "2.7.6"
  }
 },
 "nbformat": 4,
 "nbformat_minor": 5
}
