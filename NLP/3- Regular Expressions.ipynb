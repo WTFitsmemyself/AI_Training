{
 "cells": [
  {
   "cell_type": "code",
   "id": "initial_id",
   "metadata": {
    "collapsed": true,
    "ExecuteTime": {
     "end_time": "2025-09-14T19:13:15.691802Z",
     "start_time": "2025-09-14T19:13:15.686858Z"
    }
   },
   "source": "import re",
   "outputs": [],
   "execution_count": 19
  },
  {
   "metadata": {
    "ExecuteTime": {
     "end_time": "2025-09-14T19:13:15.746132Z",
     "start_time": "2025-09-14T19:13:15.741989Z"
    }
   },
   "cell_type": "code",
   "source": [
    "my_folder = r\"C:\\Users\\notes\"\n",
    "print(my_folder)"
   ],
   "id": "1b5790ac9ba832ef",
   "outputs": [
    {
     "name": "stdout",
     "output_type": "stream",
     "text": [
      "C:\\Users\\notes\n"
     ]
    }
   ],
   "execution_count": 20
  },
  {
   "metadata": {
    "ExecuteTime": {
     "end_time": "2025-09-14T19:13:33.510184Z",
     "start_time": "2025-09-14T19:13:33.506914Z"
    }
   },
   "cell_type": "code",
   "source": "result_search = re.search(\"string\", \"string to contain pattern\")",
   "id": "449d03f99514c5e8",
   "outputs": [],
   "execution_count": 23
  },
  {
   "metadata": {
    "ExecuteTime": {
     "end_time": "2025-09-14T19:13:33.888933Z",
     "start_time": "2025-09-14T19:13:33.884917Z"
    }
   },
   "cell_type": "code",
   "source": "print(result_search)",
   "id": "d6dc82c9b310738a",
   "outputs": [
    {
     "name": "stdout",
     "output_type": "stream",
     "text": [
      "<re.Match object; span=(0, 6), match='string'>\n"
     ]
    }
   ],
   "execution_count": 24
  },
  {
   "metadata": {
    "ExecuteTime": {
     "end_time": "2025-09-14T19:16:30.991845Z",
     "start_time": "2025-09-14T19:16:30.987778Z"
    }
   },
   "cell_type": "code",
   "source": [
    "result_search_2 = re.search(\"Hello\", \"there is nothing here\")\n",
    "print(result_search_2)"
   ],
   "id": "77102950a6bdd895",
   "outputs": [
    {
     "name": "stdout",
     "output_type": "stream",
     "text": [
      "None\n"
     ]
    }
   ],
   "execution_count": 25
  },
  {
   "metadata": {
    "ExecuteTime": {
     "end_time": "2025-09-14T19:17:42.417212Z",
     "start_time": "2025-09-14T19:17:42.413473Z"
    }
   },
   "cell_type": "code",
   "source": [
    "string_rand = r\"hossein is here\"\n",
    "print(re.sub(\"hossein\", \"Hossein\", string_rand))"
   ],
   "id": "ed6f5a2d33a3818a",
   "outputs": [
    {
     "name": "stdout",
     "output_type": "stream",
     "text": [
      "Hossein is here\n"
     ]
    }
   ],
   "execution_count": 27
  },
  {
   "metadata": {},
   "cell_type": "code",
   "outputs": [],
   "execution_count": null,
   "source": "",
   "id": "f78bb01a902b715a"
  }
 ],
 "metadata": {
  "kernelspec": {
   "display_name": "Python 3",
   "language": "python",
   "name": "python3"
  },
  "language_info": {
   "codemirror_mode": {
    "name": "ipython",
    "version": 2
   },
   "file_extension": ".py",
   "mimetype": "text/x-python",
   "name": "python",
   "nbconvert_exporter": "python",
   "pygments_lexer": "ipython2",
   "version": "2.7.6"
  }
 },
 "nbformat": 4,
 "nbformat_minor": 5
}
