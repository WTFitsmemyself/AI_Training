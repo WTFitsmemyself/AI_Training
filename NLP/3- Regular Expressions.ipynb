{
 "cells": [
  {
   "cell_type": "code",
   "id": "initial_id",
   "metadata": {
    "collapsed": true,
    "ExecuteTime": {
     "end_time": "2025-09-14T19:46:59.508908Z",
     "start_time": "2025-09-14T19:46:59.505248Z"
    }
   },
   "source": "import re",
   "outputs": [],
   "execution_count": 237
  },
  {
   "metadata": {
    "ExecuteTime": {
     "end_time": "2025-09-14T19:46:59.590015Z",
     "start_time": "2025-09-14T19:46:59.586243Z"
    }
   },
   "cell_type": "code",
   "source": [
    "my_folder = r\"C:\\Users\\notes\"\n",
    "print(my_folder)"
   ],
   "id": "1b5790ac9ba832ef",
   "outputs": [
    {
     "name": "stdout",
     "output_type": "stream",
     "text": [
      "C:\\Users\\notes\n"
     ]
    }
   ],
   "execution_count": 238
  },
  {
   "metadata": {
    "ExecuteTime": {
     "end_time": "2025-09-14T19:46:59.684580Z",
     "start_time": "2025-09-14T19:46:59.681279Z"
    }
   },
   "cell_type": "code",
   "source": "result_search = re.search(\"string\", \"string to contain pattern\")",
   "id": "449d03f99514c5e8",
   "outputs": [],
   "execution_count": 239
  },
  {
   "metadata": {
    "ExecuteTime": {
     "end_time": "2025-09-14T19:46:59.734584Z",
     "start_time": "2025-09-14T19:46:59.730073Z"
    }
   },
   "cell_type": "code",
   "source": "print(result_search)",
   "id": "d6dc82c9b310738a",
   "outputs": [
    {
     "name": "stdout",
     "output_type": "stream",
     "text": [
      "<re.Match object; span=(0, 6), match='string'>\n"
     ]
    }
   ],
   "execution_count": 240
  },
  {
   "metadata": {
    "ExecuteTime": {
     "end_time": "2025-09-14T19:46:59.815591Z",
     "start_time": "2025-09-14T19:46:59.811193Z"
    }
   },
   "cell_type": "code",
   "source": [
    "result_search_2 = re.search(\"Hello\", \"there is nothing here\")\n",
    "print(result_search_2)"
   ],
   "id": "77102950a6bdd895",
   "outputs": [
    {
     "name": "stdout",
     "output_type": "stream",
     "text": [
      "None\n"
     ]
    }
   ],
   "execution_count": 241
  },
  {
   "metadata": {
    "ExecuteTime": {
     "end_time": "2025-09-14T19:46:59.876445Z",
     "start_time": "2025-09-14T19:46:59.872366Z"
    }
   },
   "cell_type": "code",
   "source": [
    "string_rand = r\"hossein is here\"\n",
    "print(re.sub(\"hossein\", \"Hossein\", string_rand))"
   ],
   "id": "ed6f5a2d33a3818a",
   "outputs": [
    {
     "name": "stdout",
     "output_type": "stream",
     "text": [
      "Hossein is here\n"
     ]
    }
   ],
   "execution_count": 242
  },
  {
   "metadata": {
    "ExecuteTime": {
     "end_time": "2025-09-14T19:46:59.956919Z",
     "start_time": "2025-09-14T19:46:59.952808Z"
    }
   },
   "cell_type": "code",
   "source": [
    "customer_reviews = [\n",
    "    \"Anna is incredibly creative and detail-oriented. She transformed our project with fresh ideas we hadn’t even considered.\",\n",
    "    \"a Working with Anna was smooth and professional. She sometimes takes her time, but the results are always worth it.\",\n",
    "    \"David is reliable and efficient. He always delivers before deadlines without compromising quality.\",\n",
    "    \"His communication could be clearer at times, but wanted his technical skills are outstanding.\",\n",
    "    \"Sofia has a natural talent for connecting with people and making teamwork enjoyable.\",\n",
    "    \"Sofia brought so much needed positive energy to the group, though she tends to get a bit perfectionist.\"\n",
    "]"
   ],
   "id": "f78bb01a902b715a",
   "outputs": [],
   "execution_count": 243
  },
  {
   "metadata": {
    "ExecuteTime": {
     "end_time": "2025-09-14T19:46:59.995361Z",
     "start_time": "2025-09-14T19:46:59.992115Z"
    }
   },
   "cell_type": "code",
   "source": "sofia_reviews = []",
   "id": "acb5b7cb6699a371",
   "outputs": [],
   "execution_count": 244
  },
  {
   "metadata": {
    "ExecuteTime": {
     "end_time": "2025-09-14T19:47:00.042376Z",
     "start_time": "2025-09-14T19:47:00.038130Z"
    }
   },
   "cell_type": "code",
   "source": "pattern_to_find = r\"Sofi?\"",
   "id": "fee4c62f8ad2ac7b",
   "outputs": [],
   "execution_count": 245
  },
  {
   "metadata": {
    "ExecuteTime": {
     "end_time": "2025-09-14T19:47:00.061255Z",
     "start_time": "2025-09-14T19:47:00.057Z"
    }
   },
   "cell_type": "code",
   "source": [
    "for string in customer_reviews:\n",
    "    if re.search(pattern_to_find, string):\n",
    "        sofia_reviews.append(string.lower())"
   ],
   "id": "f4de4548bba6ed5e",
   "outputs": [],
   "execution_count": 246
  },
  {
   "metadata": {
    "ExecuteTime": {
     "end_time": "2025-09-14T19:47:00.127157Z",
     "start_time": "2025-09-14T19:47:00.122738Z"
    }
   },
   "cell_type": "code",
   "source": "print(sofia_reviews)",
   "id": "f290417101d018b",
   "outputs": [
    {
     "name": "stdout",
     "output_type": "stream",
     "text": [
      "['sofia has a natural talent for connecting with people and making teamwork enjoyable.', 'sofia brought so much needed positive energy to the group, though she tends to get a bit perfectionist.']\n"
     ]
    }
   ],
   "execution_count": 247
  },
  {
   "metadata": {
    "ExecuteTime": {
     "end_time": "2025-09-14T19:47:00.218872Z",
     "start_time": "2025-09-14T19:47:00.212768Z"
    }
   },
   "cell_type": "code",
   "source": [
    "a_reviews = []\n",
    "pattern_to_find = r\"^A\"\n",
    "for string in customer_reviews:\n",
    "    if re.search(pattern_to_find, string):\n",
    "        a_reviews.append(string.lower())\n",
    "\n",
    "print(a_reviews)"
   ],
   "id": "6e65cf16868ac96a",
   "outputs": [
    {
     "name": "stdout",
     "output_type": "stream",
     "text": [
      "['anna is incredibly creative and detail-oriented. she transformed our project with fresh ideas we hadn’t even considered.']\n"
     ]
    }
   ],
   "execution_count": 248
  },
  {
   "metadata": {
    "ExecuteTime": {
     "end_time": "2025-09-14T19:47:00.276532Z",
     "start_time": "2025-09-14T19:47:00.271076Z"
    }
   },
   "cell_type": "code",
   "source": [
    "y_reviews = []\n",
    "pattern_to_find = r\"y.$\"\n",
    "for string in customer_reviews:\n",
    "    if re.search(pattern_to_find, string):\n",
    "        y_reviews.append(string)\n",
    "\n",
    "print(y_reviews)"
   ],
   "id": "77644f4041da5fd",
   "outputs": [
    {
     "name": "stdout",
     "output_type": "stream",
     "text": [
      "['David is reliable and efficient. He always delivers before deadlines without compromising quality.']\n"
     ]
    }
   ],
   "execution_count": 249
  },
  {
   "metadata": {
    "ExecuteTime": {
     "end_time": "2025-09-14T19:47:00.341832Z",
     "start_time": "2025-09-14T19:47:00.336763Z"
    }
   },
   "cell_type": "code",
   "source": [
    "needwant_reviews = []\n",
    "pattern_to_find = r\"(need|want)ed\"\n",
    "for string in customer_reviews:\n",
    "    if re.search(pattern_to_find, string):\n",
    "        needwant_reviews.append(string.lower())\n",
    "\n",
    "print(needwant_reviews)"
   ],
   "id": "2e081b2dd8a63963",
   "outputs": [
    {
     "name": "stdout",
     "output_type": "stream",
     "text": [
      "['his communication could be clearer at times, but wanted his technical skills are outstanding.', 'sofia brought so much needed positive energy to the group, though she tends to get a bit perfectionist.']\n"
     ]
    }
   ],
   "execution_count": 250
  },
  {
   "metadata": {
    "ExecuteTime": {
     "end_time": "2025-09-14T19:47:00.423256Z",
     "start_time": "2025-09-14T19:47:00.418160Z"
    }
   },
   "cell_type": "code",
   "source": [
    "no_punc_reviews = []\n",
    "pattern_to_find = r\"[^\\w\\s]\"\n",
    "for string in customer_reviews:\n",
    "    no_punc_string = re.sub(pattern_to_find, \" \", string)\n",
    "    no_punc_reviews.append(no_punc_string)\n",
    "\n",
    "print(no_punc_reviews)"
   ],
   "id": "4cd4c9b2a89f76d4",
   "outputs": [
    {
     "name": "stdout",
     "output_type": "stream",
     "text": [
      "['Anna is incredibly creative and detail oriented  She transformed our project with fresh ideas we hadn t even considered ', 'a Working with Anna was smooth and professional  She sometimes takes her time  but the results are always worth it ', 'David is reliable and efficient  He always delivers before deadlines without compromising quality ', 'His communication could be clearer at times  but wanted his technical skills are outstanding ', 'Sofia has a natural talent for connecting with people and making teamwork enjoyable ', 'Sofia brought so much needed positive energy to the group  though she tends to get a bit perfectionist ']\n"
     ]
    }
   ],
   "execution_count": 251
  },
  {
   "metadata": {
    "ExecuteTime": {
     "end_time": "2025-09-14T19:47:00.480820Z",
     "start_time": "2025-09-14T19:47:00.478025Z"
    }
   },
   "cell_type": "code",
   "source": "",
   "id": "ee195ed106866afd",
   "outputs": [],
   "execution_count": null
  }
 ],
 "metadata": {
  "kernelspec": {
   "display_name": "Python 3",
   "language": "python",
   "name": "python3"
  },
  "language_info": {
   "codemirror_mode": {
    "name": "ipython",
    "version": 2
   },
   "file_extension": ".py",
   "mimetype": "text/x-python",
   "name": "python",
   "nbconvert_exporter": "python",
   "pygments_lexer": "ipython2",
   "version": "2.7.6"
  }
 },
 "nbformat": 4,
 "nbformat_minor": 5
}
