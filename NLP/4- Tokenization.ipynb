{
 "cells": [
  {
   "cell_type": "code",
   "id": "e2a6dbf97f21a2b",
   "metadata": {
    "ExecuteTime": {
     "end_time": "2025-09-14T20:08:39.488857Z",
     "start_time": "2025-09-14T20:08:39.242375Z"
    }
   },
   "source": [
    "import nltk\n",
    "nltk.download('punkt_tab')\n",
    "from nltk.tokenize import word_tokenize, sent_tokenize"
   ],
   "outputs": [
    {
     "name": "stderr",
     "output_type": "stream",
     "text": [
      "[nltk_data] Error loading punkt_tab: <urlopen error [SSL:\n",
      "[nltk_data]     CERTIFICATE_VERIFY_FAILED] certificate verify failed:\n",
      "[nltk_data]     unable to get local issuer certificate (_ssl.c:1032)>\n"
     ]
    }
   ],
   "execution_count": 26
  },
  {
   "cell_type": "code",
   "id": "b9c940c618eff01c",
   "metadata": {
    "ExecuteTime": {
     "end_time": "2025-09-14T20:08:39.546222Z",
     "start_time": "2025-09-14T20:08:39.498851Z"
    }
   },
   "source": [
    "sentences = \"Her cat is her dog, its dog is her cat\"\n",
    "sent_tokenize(sentences)"
   ],
   "outputs": [
    {
     "data": {
      "text/plain": [
       "['Her cat is her dog, its dog is her cat']"
      ]
     },
     "execution_count": 27,
     "metadata": {},
     "output_type": "execute_result"
    }
   ],
   "execution_count": 27
  },
  {
   "cell_type": "code",
   "id": "c18070a833d8b1a7",
   "metadata": {
    "ExecuteTime": {
     "end_time": "2025-09-14T20:08:39.639859Z",
     "start_time": "2025-09-14T20:08:39.632337Z"
    }
   },
   "source": [
    "words = \"her cat is her dog, its dog is her cat\"\n",
    "word_tokenize(words)"
   ],
   "outputs": [
    {
     "data": {
      "text/plain": [
       "['her', 'cat', 'is', 'her', 'dog', ',', 'its', 'dog', 'is', 'her', 'cat']"
      ]
     },
     "execution_count": 28,
     "metadata": {},
     "output_type": "execute_result"
    }
   ],
   "execution_count": 28
  }
 ],
 "metadata": {
  "kernelspec": {
   "display_name": "Python 3 (ipykernel)",
   "language": "python",
   "name": "python3"
  },
  "language_info": {
   "codemirror_mode": {
    "name": "ipython",
    "version": 3
   },
   "file_extension": ".py",
   "mimetype": "text/x-python",
   "name": "python",
   "nbconvert_exporter": "python",
   "pygments_lexer": "ipython3",
   "version": "3.13.5"
  }
 },
 "nbformat": 4,
 "nbformat_minor": 5
}
