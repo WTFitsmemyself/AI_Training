{
 "cells": [
  {
   "cell_type": "code",
   "id": "e2a6dbf97f21a2b",
   "metadata": {},
   "source": [
    "import nltk\n",
    "nltk.download('punkt_tab')\n",
    "from nltk.tokenize import word_tokenize, sent_tokenize"
   ],
   "outputs": [],
   "execution_count": null
  },
  {
   "cell_type": "code",
   "id": "b9c940c618eff01c",
   "metadata": {
    "ExecuteTime": {
     "end_time": "2025-09-14T20:15:31.983987Z",
     "start_time": "2025-09-14T20:15:31.977168Z"
    }
   },
   "source": [
    "sentences = \"Her cat is her dog. its dog is her cat\"\n",
    "sent_tokenize(sentences)"
   ],
   "outputs": [
    {
     "data": {
      "text/plain": [
       "['Her cat is her dog.', 'its dog is her cat']"
      ]
     },
     "execution_count": 8,
     "metadata": {},
     "output_type": "execute_result"
    }
   ],
   "execution_count": 8
  },
  {
   "cell_type": "code",
   "id": "c18070a833d8b1a7",
   "metadata": {
    "ExecuteTime": {
     "end_time": "2025-09-14T20:15:32.830207Z",
     "start_time": "2025-09-14T20:15:32.825114Z"
    }
   },
   "source": [
    "words = \"her cat is her dog, its dog is her cat\"\n",
    "word_tokenize(words)"
   ],
   "outputs": [
    {
     "data": {
      "text/plain": [
       "['her', 'cat', 'is', 'her', 'dog', ',', 'its', 'dog', 'is', 'her', 'cat']"
      ]
     },
     "execution_count": 9,
     "metadata": {},
     "output_type": "execute_result"
    }
   ],
   "execution_count": 9
  }
 ],
 "metadata": {
  "kernelspec": {
   "display_name": "Python 3 (ipykernel)",
   "language": "python",
   "name": "python3"
  },
  "language_info": {
   "codemirror_mode": {
    "name": "ipython",
    "version": 3
   },
   "file_extension": ".py",
   "mimetype": "text/x-python",
   "name": "python",
   "nbconvert_exporter": "python",
   "pygments_lexer": "ipython3",
   "version": "3.13.5"
  }
 },
 "nbformat": 4,
 "nbformat_minor": 5
}
