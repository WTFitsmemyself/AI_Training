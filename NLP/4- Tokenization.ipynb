{
 "cells": [
  {
   "cell_type": "code",
   "id": "e2a6dbf97f21a2b",
   "metadata": {},
   "source": [
    "import nltk\n",
    "nltk.download('punkt_tab')\n",
    "from nltk.tokenize import word_tokenize as w, sent_tokenize as s"
   ],
   "outputs": [],
   "execution_count": null
  },
  {
   "cell_type": "code",
   "id": "b9c940c618eff01c",
   "metadata": {},
   "source": [
    "sentences = \"Her cat is her dog. its dog is her cat\"\n",
    "s(sentences)"
   ],
   "outputs": [],
   "execution_count": null
  },
  {
   "cell_type": "code",
   "id": "c18070a833d8b1a7",
   "metadata": {},
   "source": [
    "words = \"Maede is on my nerves, I dont know what should I do with her\"\n",
    "print(w(words), end=  \" \")"
   ],
   "outputs": [],
   "execution_count": null
  }
 ],
 "metadata": {
  "kernelspec": {
   "display_name": "Python 3 (ipykernel)",
   "language": "python",
   "name": "python3"
  },
  "language_info": {
   "codemirror_mode": {
    "name": "ipython",
    "version": 3
   },
   "file_extension": ".py",
   "mimetype": "text/x-python",
   "name": "python",
   "nbconvert_exporter": "python",
   "pygments_lexer": "ipython3",
   "version": "3.13.5"
  }
 },
 "nbformat": 4,
 "nbformat_minor": 5
}
