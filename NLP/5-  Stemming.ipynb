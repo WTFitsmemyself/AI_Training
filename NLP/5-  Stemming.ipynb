{
 "cells": [
  {
   "cell_type": "code",
   "id": "initial_id",
   "metadata": {
    "collapsed": true,
    "ExecuteTime": {
     "end_time": "2025-09-15T14:49:13.390297Z",
     "start_time": "2025-09-15T14:49:12.828814Z"
    }
   },
   "source": "from nltk.stem import PorterStemmer",
   "outputs": [],
   "execution_count": 2
  },
  {
   "metadata": {
    "ExecuteTime": {
     "end_time": "2025-09-15T14:49:13.414745Z",
     "start_time": "2025-09-15T14:49:13.409989Z"
    }
   },
   "cell_type": "code",
   "source": "ps = PorterStemmer()",
   "id": "bc414f4f05060fcb",
   "outputs": [],
   "execution_count": 3
  },
  {
   "metadata": {
    "ExecuteTime": {
     "end_time": "2025-09-15T14:51:04.267438Z",
     "start_time": "2025-09-15T14:51:04.262577Z"
    }
   },
   "cell_type": "code",
   "source": "connect_tokens = ['Connect', 'Connecting', 'Connected', 'Connectivity', 'Connects']",
   "id": "fdcf9caa7a2d9408",
   "outputs": [],
   "execution_count": 4
  },
  {
   "metadata": {
    "ExecuteTime": {
     "end_time": "2025-09-15T14:51:32.313495Z",
     "start_time": "2025-09-15T14:51:32.308408Z"
    }
   },
   "cell_type": "code",
   "source": [
    "for t in connect_tokens:\n",
    "    print(t, \":\", ps.stem(t))"
   ],
   "id": "6c1dd259e74ae5de",
   "outputs": [
    {
     "name": "stdout",
     "output_type": "stream",
     "text": [
      "Connect : connect\n",
      "Connecting : connect\n",
      "Connected : connect\n",
      "Connectivity : connect\n",
      "Connects : connect\n"
     ]
    }
   ],
   "execution_count": 5
  },
  {
   "metadata": {
    "ExecuteTime": {
     "end_time": "2025-09-15T14:54:17.723710Z",
     "start_time": "2025-09-15T14:54:17.720518Z"
    }
   },
   "cell_type": "code",
   "source": "learn_tokens = ['Learned', 'Learning', 'Learn', 'Learns', 'Learner', 'Learners']",
   "id": "db49d64d20d2c191",
   "outputs": [],
   "execution_count": 6
  },
  {
   "metadata": {
    "ExecuteTime": {
     "end_time": "2025-09-15T14:54:41.101461Z",
     "start_time": "2025-09-15T14:54:41.097131Z"
    }
   },
   "cell_type": "code",
   "source": [
    "for t in learn_tokens:\n",
    "    print(t, \":\", ps.stem(t))"
   ],
   "id": "b29fca5bac857e95",
   "outputs": [
    {
     "name": "stdout",
     "output_type": "stream",
     "text": [
      "Learned : learn\n",
      "Learning : learn\n",
      "Learn : learn\n",
      "Learns : learn\n",
      "Learner : learner\n",
      "Learners : learner\n"
     ]
    }
   ],
   "execution_count": 7
  },
  {
   "metadata": {
    "ExecuteTime": {
     "end_time": "2025-09-15T14:55:19.962555Z",
     "start_time": "2025-09-15T14:55:19.956495Z"
    }
   },
   "cell_type": "code",
   "source": "likes_tokens = ['Likes', 'Better', 'Worse']",
   "id": "2f4f5a571d87c0ac",
   "outputs": [],
   "execution_count": 8
  },
  {
   "metadata": {
    "ExecuteTime": {
     "end_time": "2025-09-15T14:55:28.927725Z",
     "start_time": "2025-09-15T14:55:28.923774Z"
    }
   },
   "cell_type": "code",
   "source": [
    "for t in likes_tokens:\n",
    "    print(t, \":\", ps.stem(t))"
   ],
   "id": "4ab4c952172d80d9",
   "outputs": [
    {
     "name": "stdout",
     "output_type": "stream",
     "text": [
      "Likes : like\n",
      "Better : better\n",
      "Worse : wors\n"
     ]
    }
   ],
   "execution_count": 9
  }
 ],
 "metadata": {
  "kernelspec": {
   "display_name": "Python 3",
   "language": "python",
   "name": "python3"
  },
  "language_info": {
   "codemirror_mode": {
    "name": "ipython",
    "version": 2
   },
   "file_extension": ".py",
   "mimetype": "text/x-python",
   "name": "python",
   "nbconvert_exporter": "python",
   "pygments_lexer": "ipython2",
   "version": "2.7.6"
  }
 },
 "nbformat": 4,
 "nbformat_minor": 5
}
