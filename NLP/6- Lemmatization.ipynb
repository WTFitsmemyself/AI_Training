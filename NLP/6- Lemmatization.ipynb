{
 "cells": [
  {
   "cell_type": "code",
   "id": "initial_id",
   "metadata": {
    "collapsed": true,
    "ExecuteTime": {
     "end_time": "2025-09-15T15:37:47.878453Z",
     "start_time": "2025-09-15T15:37:47.875017Z"
    }
   },
   "source": [
    "learn_tokens = ['Learned', 'Learning', 'Learn', 'Learns', 'Learner', 'Learners']\n",
    "connect_tokens = ['Connect', 'Connecting', 'Connected', 'Connectivity', 'Connects']\n",
    "likes_tokens = ['Likes', 'Better', 'Worse']"
   ],
   "outputs": [],
   "execution_count": 42
  },
  {
   "metadata": {
    "ExecuteTime": {
     "end_time": "2025-09-15T15:37:47.946173Z",
     "start_time": "2025-09-15T15:37:47.938474Z"
    }
   },
   "cell_type": "code",
   "source": [
    "import nltk\n",
    "nltk.download('wordnet')\n",
    "from nltk.stem import WordNetLemmatizer"
   ],
   "id": "8687d95e52dbe01e",
   "outputs": [
    {
     "name": "stderr",
     "output_type": "stream",
     "text": [
      "[nltk_data] Error loading wordnet: <urlopen error no host given>\n"
     ]
    }
   ],
   "execution_count": 43
  },
  {
   "metadata": {
    "ExecuteTime": {
     "end_time": "2025-09-15T15:37:48.017863Z",
     "start_time": "2025-09-15T15:37:48.014537Z"
    }
   },
   "cell_type": "code",
   "source": "lemmatizer = WordNetLemmatizer()",
   "id": "7373a7400dfd162c",
   "outputs": [],
   "execution_count": 44
  },
  {
   "metadata": {
    "ExecuteTime": {
     "end_time": "2025-09-15T15:37:48.117696Z",
     "start_time": "2025-09-15T15:37:48.113057Z"
    }
   },
   "cell_type": "code",
   "source": [
    "for t in connect_tokens:\n",
    "    print(t, \": \",lemmatizer.lemmatize(t))"
   ],
   "id": "aa642b43723de86",
   "outputs": [
    {
     "name": "stdout",
     "output_type": "stream",
     "text": [
      "Connect :  Connect\n",
      "Connecting :  Connecting\n",
      "Connected :  Connected\n",
      "Connectivity :  Connectivity\n",
      "Connects :  Connects\n"
     ]
    }
   ],
   "execution_count": 45
  },
  {
   "metadata": {
    "ExecuteTime": {
     "end_time": "2025-09-15T15:37:48.164594Z",
     "start_time": "2025-09-15T15:37:48.159426Z"
    }
   },
   "cell_type": "code",
   "source": [
    "for t in learn_tokens:\n",
    "    print(t, \": \",lemmatizer.lemmatize(t))"
   ],
   "id": "e6cc2278583c15b0",
   "outputs": [
    {
     "name": "stdout",
     "output_type": "stream",
     "text": [
      "Learned :  Learned\n",
      "Learning :  Learning\n",
      "Learn :  Learn\n",
      "Learns :  Learns\n",
      "Learner :  Learner\n",
      "Learners :  Learners\n"
     ]
    }
   ],
   "execution_count": 46
  },
  {
   "metadata": {
    "ExecuteTime": {
     "end_time": "2025-09-15T15:37:48.241481Z",
     "start_time": "2025-09-15T15:37:48.234203Z"
    }
   },
   "cell_type": "code",
   "source": [
    "for t in likes_tokens:\n",
    "    print(t, \": \",lemmatizer.lemmatize(t))"
   ],
   "id": "7e2fe91ecad7592c",
   "outputs": [
    {
     "name": "stdout",
     "output_type": "stream",
     "text": [
      "Likes :  Likes\n",
      "Better :  Better\n",
      "Worse :  Worse\n"
     ]
    }
   ],
   "execution_count": 47
  }
 ],
 "metadata": {
  "kernelspec": {
   "display_name": "Python 3",
   "language": "python",
   "name": "python3"
  },
  "language_info": {
   "codemirror_mode": {
    "name": "ipython",
    "version": 2
   },
   "file_extension": ".py",
   "mimetype": "text/x-python",
   "name": "python",
   "nbconvert_exporter": "python",
   "pygments_lexer": "ipython2",
   "version": "2.7.6"
  }
 },
 "nbformat": 4,
 "nbformat_minor": 5
}
