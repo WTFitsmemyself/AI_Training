{
 "cells": [
  {
   "cell_type": "code",
   "id": "initial_id",
   "metadata": {
    "collapsed": true
   },
   "source": [
    "import nltk\n",
    "from nltk.corpus import stopwords\n",
    "from nltk.tokenize import word_tokenize\n",
    "from nltk.stem import WordNetLemmatizer, PorterStemmer\n",
    "import pandas as pd\n",
    "import re"
   ],
   "outputs": [],
   "execution_count": null
  },
  {
   "metadata": {},
   "cell_type": "code",
   "source": "data = pd.read_csv(\"./tripadvisor_hotel_reviews.csv\")",
   "id": "ced0660882b9d5e5",
   "outputs": [],
   "execution_count": null
  },
  {
   "metadata": {},
   "cell_type": "code",
   "source": "data.info()",
   "id": "c2ba6bea9956b591",
   "outputs": [],
   "execution_count": null
  },
  {
   "metadata": {},
   "cell_type": "code",
   "source": "data.head()",
   "id": "4348f418cefc13a4",
   "outputs": [],
   "execution_count": null
  },
  {
   "metadata": {},
   "cell_type": "code",
   "source": "data['Review'][0]",
   "id": "684a7b895edbd2fc",
   "outputs": [],
   "execution_count": null
  },
  {
   "metadata": {},
   "cell_type": "code",
   "source": "data[\"review_lower\"] = data['Review'].str.lower()",
   "id": "3be04de71e24a24e",
   "outputs": [],
   "execution_count": null
  },
  {
   "metadata": {},
   "cell_type": "code",
   "source": "data.head()",
   "id": "f1198af20e195820",
   "outputs": [],
   "execution_count": null
  },
  {
   "metadata": {},
   "cell_type": "code",
   "source": "en_stopwords = stopwords.words(\"english\")",
   "id": "ecdef217707de01c",
   "outputs": [],
   "execution_count": null
  },
  {
   "metadata": {},
   "cell_type": "code",
   "source": "en_stopwords.remove(\"not\")",
   "id": "6a46c95942993f91",
   "outputs": [],
   "execution_count": null
  },
  {
   "metadata": {
    "ExecuteTime": {
     "end_time": "2025-09-15T17:05:13.958895Z",
     "start_time": "2025-09-15T17:05:13.923473Z"
    }
   },
   "cell_type": "code",
   "source": "data[\"review_nostop_words\"] = data['review_lower'].apply(lambda x:' '.join([word for word in x.split() if word not in en_stopwords]))",
   "id": "2277e2f426010f7c",
   "outputs": [],
   "execution_count": 46
  },
  {
   "metadata": {
    "ExecuteTime": {
     "end_time": "2025-09-15T17:05:20.048707Z",
     "start_time": "2025-09-15T17:05:20.043517Z"
    }
   },
   "cell_type": "code",
   "source": "data[\"review_nostop_words\"][1]",
   "id": "4cc20da7696cebea",
   "outputs": [
    {
     "data": {
      "text/plain": [
       "'ok nothing special charge diamond member hilton decided chain shot 20th anniversary seattle, start booked suite paid extra website description not, suite bedroom bathroom standard hotel room, took printed reservation desk showed said things like tv couch ect desk clerk told oh mixed suites description kimpton website sorry free breakfast, got kidding, embassy suits sitting room bathroom bedroom unlike kimpton calls suite, 5 day stay offer correct false advertising, send kimpton preferred guest website email asking failure provide suite advertised website reservation description furnished hard copy reservation printout website desk manager duty not reply solution, send email trip guest survey not follow email mail, guess tell concerned guest.the staff ranged indifferent not helpful, asked desk good breakfast spots neighborhood hood told hotels, gee best breakfast spots seattle 1/2 block away convenient hotel not know exist, arrived late night 11 pm inside run bellman busy chating cell phone help bags.prior arrival emailed hotel inform 20th anniversary half really picky wanted make sure good, got nice email saying like deliver bottle champagne chocolate covered strawberries room arrival celebrate, told needed foam pillows, arrival champagne strawberries foam pillows great room view alley high rise building good not better housekeeping staff cleaner room property, impressed left morning shopping room got short trips 2 hours, beds comfortable.not good ac-heat control 4 x 4 inch screen bring green shine directly eyes night, light sensitive tape controls.this not 4 start hotel clean business hotel super high rates, better chain hotels seattle,'"
      ]
     },
     "execution_count": 48,
     "metadata": {},
     "output_type": "execute_result"
    }
   ],
   "execution_count": 48
  },
  {
   "metadata": {
    "ExecuteTime": {
     "end_time": "2025-09-15T17:12:07.569568Z",
     "start_time": "2025-09-15T17:12:07.564114Z"
    }
   },
   "cell_type": "code",
   "source": "data[\"review_nostop_nopunct\"] = data.apply(lambda x: re.sub(r\"[*]\", \"star\", x[\"review_nostop_words\"]), axis=1)",
   "id": "4ed872f737067689",
   "outputs": [],
   "execution_count": 55
  },
  {
   "metadata": {
    "ExecuteTime": {
     "end_time": "2025-09-15T17:12:07.816383Z",
     "start_time": "2025-09-15T17:12:07.807612Z"
    }
   },
   "cell_type": "code",
   "source": "data.head()",
   "id": "3f3b6d611edde379",
   "outputs": [
    {
     "data": {
      "text/plain": [
       "                                              Review  Rating  \\\n",
       "0  nice hotel expensive parking got good deal sta...       4   \n",
       "1  ok nothing special charge diamond member hilto...       2   \n",
       "2  nice rooms not 4* experience hotel monaco seat...       3   \n",
       "3  unique, great stay, wonderful time hotel monac...       5   \n",
       "4  great stay great stay, went seahawk game aweso...       5   \n",
       "\n",
       "                                        review_lower  \\\n",
       "0  nice hotel expensive parking got good deal sta...   \n",
       "1  ok nothing special charge diamond member hilto...   \n",
       "2  nice rooms not 4* experience hotel monaco seat...   \n",
       "3  unique, great stay, wonderful time hotel monac...   \n",
       "4  great stay great stay, went seahawk game aweso...   \n",
       "\n",
       "                                 review_nostop_words  \\\n",
       "0  nice hotel expensive parking got good deal sta...   \n",
       "1  ok nothing special charge diamond member hilto...   \n",
       "2  nice rooms not 4* experience hotel monaco seat...   \n",
       "3  unique, great stay, wonderful time hotel monac...   \n",
       "4  great stay great stay, went seahawk game aweso...   \n",
       "\n",
       "                               review_nostop_nopunct  \n",
       "0  nice hotel expensive parking got good deal sta...  \n",
       "1  ok nothing special charge diamond member hilto...  \n",
       "2  nice rooms not 4star experience hotel monaco s...  \n",
       "3  unique, great stay, wonderful time hotel monac...  \n",
       "4  great stay great stay, went seahawk game aweso...  "
      ],
      "text/html": [
       "<div>\n",
       "<style scoped>\n",
       "    .dataframe tbody tr th:only-of-type {\n",
       "        vertical-align: middle;\n",
       "    }\n",
       "\n",
       "    .dataframe tbody tr th {\n",
       "        vertical-align: top;\n",
       "    }\n",
       "\n",
       "    .dataframe thead th {\n",
       "        text-align: right;\n",
       "    }\n",
       "</style>\n",
       "<table border=\"1\" class=\"dataframe\">\n",
       "  <thead>\n",
       "    <tr style=\"text-align: right;\">\n",
       "      <th></th>\n",
       "      <th>Review</th>\n",
       "      <th>Rating</th>\n",
       "      <th>review_lower</th>\n",
       "      <th>review_nostop_words</th>\n",
       "      <th>review_nostop_nopunct</th>\n",
       "    </tr>\n",
       "  </thead>\n",
       "  <tbody>\n",
       "    <tr>\n",
       "      <th>0</th>\n",
       "      <td>nice hotel expensive parking got good deal sta...</td>\n",
       "      <td>4</td>\n",
       "      <td>nice hotel expensive parking got good deal sta...</td>\n",
       "      <td>nice hotel expensive parking got good deal sta...</td>\n",
       "      <td>nice hotel expensive parking got good deal sta...</td>\n",
       "    </tr>\n",
       "    <tr>\n",
       "      <th>1</th>\n",
       "      <td>ok nothing special charge diamond member hilto...</td>\n",
       "      <td>2</td>\n",
       "      <td>ok nothing special charge diamond member hilto...</td>\n",
       "      <td>ok nothing special charge diamond member hilto...</td>\n",
       "      <td>ok nothing special charge diamond member hilto...</td>\n",
       "    </tr>\n",
       "    <tr>\n",
       "      <th>2</th>\n",
       "      <td>nice rooms not 4* experience hotel monaco seat...</td>\n",
       "      <td>3</td>\n",
       "      <td>nice rooms not 4* experience hotel monaco seat...</td>\n",
       "      <td>nice rooms not 4* experience hotel monaco seat...</td>\n",
       "      <td>nice rooms not 4star experience hotel monaco s...</td>\n",
       "    </tr>\n",
       "    <tr>\n",
       "      <th>3</th>\n",
       "      <td>unique, great stay, wonderful time hotel monac...</td>\n",
       "      <td>5</td>\n",
       "      <td>unique, great stay, wonderful time hotel monac...</td>\n",
       "      <td>unique, great stay, wonderful time hotel monac...</td>\n",
       "      <td>unique, great stay, wonderful time hotel monac...</td>\n",
       "    </tr>\n",
       "    <tr>\n",
       "      <th>4</th>\n",
       "      <td>great stay great stay, went seahawk game aweso...</td>\n",
       "      <td>5</td>\n",
       "      <td>great stay great stay, went seahawk game aweso...</td>\n",
       "      <td>great stay great stay, went seahawk game aweso...</td>\n",
       "      <td>great stay great stay, went seahawk game aweso...</td>\n",
       "    </tr>\n",
       "  </tbody>\n",
       "</table>\n",
       "</div>"
      ]
     },
     "execution_count": 56,
     "metadata": {},
     "output_type": "execute_result"
    }
   ],
   "execution_count": 56
  },
  {
   "metadata": {
    "ExecuteTime": {
     "end_time": "2025-09-15T17:20:15.649951Z",
     "start_time": "2025-09-15T17:20:15.640164Z"
    }
   },
   "cell_type": "code",
   "source": "data[\"review_nostop_nopunct\"] = data.apply(lambda x: re.sub(r\"([^\\w\\s])\", \"\", x[\"review_nostop_nopunct\"]), axis=1)",
   "id": "b0096922cc85ee62",
   "outputs": [],
   "execution_count": 62
  },
  {
   "metadata": {
    "ExecuteTime": {
     "end_time": "2025-09-15T17:20:16.068161Z",
     "start_time": "2025-09-15T17:20:16.058766Z"
    }
   },
   "cell_type": "code",
   "source": "data.head()",
   "id": "86c5a58ddda36a63",
   "outputs": [
    {
     "data": {
      "text/plain": [
       "                                              Review  Rating  \\\n",
       "0  nice hotel expensive parking got good deal sta...       4   \n",
       "1  ok nothing special charge diamond member hilto...       2   \n",
       "2  nice rooms not 4* experience hotel monaco seat...       3   \n",
       "3  unique, great stay, wonderful time hotel monac...       5   \n",
       "4  great stay great stay, went seahawk game aweso...       5   \n",
       "\n",
       "                                        review_lower  \\\n",
       "0  nice hotel expensive parking got good deal sta...   \n",
       "1  ok nothing special charge diamond member hilto...   \n",
       "2  nice rooms not 4* experience hotel monaco seat...   \n",
       "3  unique, great stay, wonderful time hotel monac...   \n",
       "4  great stay great stay, went seahawk game aweso...   \n",
       "\n",
       "                                 review_nostop_words  \\\n",
       "0  nice hotel expensive parking got good deal sta...   \n",
       "1  ok nothing special charge diamond member hilto...   \n",
       "2  nice rooms not 4* experience hotel monaco seat...   \n",
       "3  unique, great stay, wonderful time hotel monac...   \n",
       "4  great stay great stay, went seahawk game aweso...   \n",
       "\n",
       "                               review_nostop_nopunct  \n",
       "0  nice hotel expensive parking got good deal sta...  \n",
       "1  ok nothing special charge diamond member hilto...  \n",
       "2  nice rooms not 4 experience hotel monaco seatt...  \n",
       "3  unique great stay wonderful time hotel monaco ...  \n",
       "4  great stay great stay went seahawk game awesom...  "
      ],
      "text/html": [
       "<div>\n",
       "<style scoped>\n",
       "    .dataframe tbody tr th:only-of-type {\n",
       "        vertical-align: middle;\n",
       "    }\n",
       "\n",
       "    .dataframe tbody tr th {\n",
       "        vertical-align: top;\n",
       "    }\n",
       "\n",
       "    .dataframe thead th {\n",
       "        text-align: right;\n",
       "    }\n",
       "</style>\n",
       "<table border=\"1\" class=\"dataframe\">\n",
       "  <thead>\n",
       "    <tr style=\"text-align: right;\">\n",
       "      <th></th>\n",
       "      <th>Review</th>\n",
       "      <th>Rating</th>\n",
       "      <th>review_lower</th>\n",
       "      <th>review_nostop_words</th>\n",
       "      <th>review_nostop_nopunct</th>\n",
       "    </tr>\n",
       "  </thead>\n",
       "  <tbody>\n",
       "    <tr>\n",
       "      <th>0</th>\n",
       "      <td>nice hotel expensive parking got good deal sta...</td>\n",
       "      <td>4</td>\n",
       "      <td>nice hotel expensive parking got good deal sta...</td>\n",
       "      <td>nice hotel expensive parking got good deal sta...</td>\n",
       "      <td>nice hotel expensive parking got good deal sta...</td>\n",
       "    </tr>\n",
       "    <tr>\n",
       "      <th>1</th>\n",
       "      <td>ok nothing special charge diamond member hilto...</td>\n",
       "      <td>2</td>\n",
       "      <td>ok nothing special charge diamond member hilto...</td>\n",
       "      <td>ok nothing special charge diamond member hilto...</td>\n",
       "      <td>ok nothing special charge diamond member hilto...</td>\n",
       "    </tr>\n",
       "    <tr>\n",
       "      <th>2</th>\n",
       "      <td>nice rooms not 4* experience hotel monaco seat...</td>\n",
       "      <td>3</td>\n",
       "      <td>nice rooms not 4* experience hotel monaco seat...</td>\n",
       "      <td>nice rooms not 4* experience hotel monaco seat...</td>\n",
       "      <td>nice rooms not 4 experience hotel monaco seatt...</td>\n",
       "    </tr>\n",
       "    <tr>\n",
       "      <th>3</th>\n",
       "      <td>unique, great stay, wonderful time hotel monac...</td>\n",
       "      <td>5</td>\n",
       "      <td>unique, great stay, wonderful time hotel monac...</td>\n",
       "      <td>unique, great stay, wonderful time hotel monac...</td>\n",
       "      <td>unique great stay wonderful time hotel monaco ...</td>\n",
       "    </tr>\n",
       "    <tr>\n",
       "      <th>4</th>\n",
       "      <td>great stay great stay, went seahawk game aweso...</td>\n",
       "      <td>5</td>\n",
       "      <td>great stay great stay, went seahawk game aweso...</td>\n",
       "      <td>great stay great stay, went seahawk game aweso...</td>\n",
       "      <td>great stay great stay went seahawk game awesom...</td>\n",
       "    </tr>\n",
       "  </tbody>\n",
       "</table>\n",
       "</div>"
      ]
     },
     "execution_count": 63,
     "metadata": {},
     "output_type": "execute_result"
    }
   ],
   "execution_count": 63
  },
  {
   "metadata": {
    "ExecuteTime": {
     "end_time": "2025-09-15T17:21:06.310111Z",
     "start_time": "2025-09-15T17:21:06.214241Z"
    }
   },
   "cell_type": "code",
   "source": "data['Tokenized'] = data.apply(lambda x: word_tokenize(x[\"review_nostop_nopunct\"]), axis=1)",
   "id": "71f3f87ad2faceb5",
   "outputs": [],
   "execution_count": 64
  },
  {
   "metadata": {
    "ExecuteTime": {
     "end_time": "2025-09-15T17:21:20.894530Z",
     "start_time": "2025-09-15T17:21:20.888398Z"
    }
   },
   "cell_type": "code",
   "source": "data['Tokenized'][0]",
   "id": "56300029e18fb8e",
   "outputs": [
    {
     "data": {
      "text/plain": [
       "['nice',\n",
       " 'hotel',\n",
       " 'expensive',\n",
       " 'parking',\n",
       " 'got',\n",
       " 'good',\n",
       " 'deal',\n",
       " 'stay',\n",
       " 'hotel',\n",
       " 'anniversary',\n",
       " 'arrived',\n",
       " 'late',\n",
       " 'evening',\n",
       " 'took',\n",
       " 'advice',\n",
       " 'previous',\n",
       " 'reviews',\n",
       " 'valet',\n",
       " 'parking',\n",
       " 'check',\n",
       " 'quick',\n",
       " 'easy',\n",
       " 'little',\n",
       " 'disappointed',\n",
       " 'nonexistent',\n",
       " 'view',\n",
       " 'room',\n",
       " 'room',\n",
       " 'clean',\n",
       " 'nice',\n",
       " 'size',\n",
       " 'bed',\n",
       " 'comfortable',\n",
       " 'woke',\n",
       " 'stiff',\n",
       " 'neck',\n",
       " 'high',\n",
       " 'pillows',\n",
       " 'not',\n",
       " 'soundproof',\n",
       " 'like',\n",
       " 'heard',\n",
       " 'music',\n",
       " 'room',\n",
       " 'night',\n",
       " 'morning',\n",
       " 'loud',\n",
       " 'bangs',\n",
       " 'doors',\n",
       " 'opening',\n",
       " 'closing',\n",
       " 'hear',\n",
       " 'people',\n",
       " 'talking',\n",
       " 'hallway',\n",
       " 'maybe',\n",
       " 'noisy',\n",
       " 'neighbors',\n",
       " 'aveda',\n",
       " 'bath',\n",
       " 'products',\n",
       " 'nice',\n",
       " 'not',\n",
       " 'goldfish',\n",
       " 'stay',\n",
       " 'nice',\n",
       " 'touch',\n",
       " 'taken',\n",
       " 'advantage',\n",
       " 'staying',\n",
       " 'longer',\n",
       " 'location',\n",
       " 'great',\n",
       " 'walking',\n",
       " 'distance',\n",
       " 'shopping',\n",
       " 'overall',\n",
       " 'nice',\n",
       " 'experience',\n",
       " 'pay',\n",
       " '40',\n",
       " 'parking',\n",
       " 'night']"
      ]
     },
     "execution_count": 65,
     "metadata": {},
     "output_type": "execute_result"
    }
   ],
   "execution_count": 65
  },
  {
   "metadata": {
    "ExecuteTime": {
     "end_time": "2025-09-15T17:21:50.471706Z",
     "start_time": "2025-09-15T17:21:50.468577Z"
    }
   },
   "cell_type": "code",
   "source": "ps = PorterStemmer()",
   "id": "2129fde73b6accfa",
   "outputs": [],
   "execution_count": 66
  },
  {
   "metadata": {
    "ExecuteTime": {
     "end_time": "2025-09-15T17:24:24.272732Z",
     "start_time": "2025-09-15T17:24:24.100519Z"
    }
   },
   "cell_type": "code",
   "source": "data['stemmed'] = data['Tokenized'].apply(lambda tokens: [ps.stem(token) for token in tokens])",
   "id": "2be142b41eed2a68",
   "outputs": [],
   "execution_count": 67
  },
  {
   "metadata": {
    "ExecuteTime": {
     "end_time": "2025-09-15T17:24:31.808713Z",
     "start_time": "2025-09-15T17:24:31.792589Z"
    }
   },
   "cell_type": "code",
   "source": "data.head()",
   "id": "b66c894f9790915e",
   "outputs": [
    {
     "data": {
      "text/plain": [
       "                                              Review  Rating  \\\n",
       "0  nice hotel expensive parking got good deal sta...       4   \n",
       "1  ok nothing special charge diamond member hilto...       2   \n",
       "2  nice rooms not 4* experience hotel monaco seat...       3   \n",
       "3  unique, great stay, wonderful time hotel monac...       5   \n",
       "4  great stay great stay, went seahawk game aweso...       5   \n",
       "\n",
       "                                        review_lower  \\\n",
       "0  nice hotel expensive parking got good deal sta...   \n",
       "1  ok nothing special charge diamond member hilto...   \n",
       "2  nice rooms not 4* experience hotel monaco seat...   \n",
       "3  unique, great stay, wonderful time hotel monac...   \n",
       "4  great stay great stay, went seahawk game aweso...   \n",
       "\n",
       "                                 review_nostop_words  \\\n",
       "0  nice hotel expensive parking got good deal sta...   \n",
       "1  ok nothing special charge diamond member hilto...   \n",
       "2  nice rooms not 4* experience hotel monaco seat...   \n",
       "3  unique, great stay, wonderful time hotel monac...   \n",
       "4  great stay great stay, went seahawk game aweso...   \n",
       "\n",
       "                               review_nostop_nopunct  \\\n",
       "0  nice hotel expensive parking got good deal sta...   \n",
       "1  ok nothing special charge diamond member hilto...   \n",
       "2  nice rooms not 4 experience hotel monaco seatt...   \n",
       "3  unique great stay wonderful time hotel monaco ...   \n",
       "4  great stay great stay went seahawk game awesom...   \n",
       "\n",
       "                                           Tokenized  \\\n",
       "0  [nice, hotel, expensive, parking, got, good, d...   \n",
       "1  [ok, nothing, special, charge, diamond, member...   \n",
       "2  [nice, rooms, not, 4, experience, hotel, monac...   \n",
       "3  [unique, great, stay, wonderful, time, hotel, ...   \n",
       "4  [great, stay, great, stay, went, seahawk, game...   \n",
       "\n",
       "                                             stemmed  \n",
       "0  [nice, hotel, expens, park, got, good, deal, s...  \n",
       "1  [ok, noth, special, charg, diamond, member, hi...  \n",
       "2  [nice, room, not, 4, experi, hotel, monaco, se...  \n",
       "3  [uniqu, great, stay, wonder, time, hotel, mona...  \n",
       "4  [great, stay, great, stay, went, seahawk, game...  "
      ],
      "text/html": [
       "<div>\n",
       "<style scoped>\n",
       "    .dataframe tbody tr th:only-of-type {\n",
       "        vertical-align: middle;\n",
       "    }\n",
       "\n",
       "    .dataframe tbody tr th {\n",
       "        vertical-align: top;\n",
       "    }\n",
       "\n",
       "    .dataframe thead th {\n",
       "        text-align: right;\n",
       "    }\n",
       "</style>\n",
       "<table border=\"1\" class=\"dataframe\">\n",
       "  <thead>\n",
       "    <tr style=\"text-align: right;\">\n",
       "      <th></th>\n",
       "      <th>Review</th>\n",
       "      <th>Rating</th>\n",
       "      <th>review_lower</th>\n",
       "      <th>review_nostop_words</th>\n",
       "      <th>review_nostop_nopunct</th>\n",
       "      <th>Tokenized</th>\n",
       "      <th>stemmed</th>\n",
       "    </tr>\n",
       "  </thead>\n",
       "  <tbody>\n",
       "    <tr>\n",
       "      <th>0</th>\n",
       "      <td>nice hotel expensive parking got good deal sta...</td>\n",
       "      <td>4</td>\n",
       "      <td>nice hotel expensive parking got good deal sta...</td>\n",
       "      <td>nice hotel expensive parking got good deal sta...</td>\n",
       "      <td>nice hotel expensive parking got good deal sta...</td>\n",
       "      <td>[nice, hotel, expensive, parking, got, good, d...</td>\n",
       "      <td>[nice, hotel, expens, park, got, good, deal, s...</td>\n",
       "    </tr>\n",
       "    <tr>\n",
       "      <th>1</th>\n",
       "      <td>ok nothing special charge diamond member hilto...</td>\n",
       "      <td>2</td>\n",
       "      <td>ok nothing special charge diamond member hilto...</td>\n",
       "      <td>ok nothing special charge diamond member hilto...</td>\n",
       "      <td>ok nothing special charge diamond member hilto...</td>\n",
       "      <td>[ok, nothing, special, charge, diamond, member...</td>\n",
       "      <td>[ok, noth, special, charg, diamond, member, hi...</td>\n",
       "    </tr>\n",
       "    <tr>\n",
       "      <th>2</th>\n",
       "      <td>nice rooms not 4* experience hotel monaco seat...</td>\n",
       "      <td>3</td>\n",
       "      <td>nice rooms not 4* experience hotel monaco seat...</td>\n",
       "      <td>nice rooms not 4* experience hotel monaco seat...</td>\n",
       "      <td>nice rooms not 4 experience hotel monaco seatt...</td>\n",
       "      <td>[nice, rooms, not, 4, experience, hotel, monac...</td>\n",
       "      <td>[nice, room, not, 4, experi, hotel, monaco, se...</td>\n",
       "    </tr>\n",
       "    <tr>\n",
       "      <th>3</th>\n",
       "      <td>unique, great stay, wonderful time hotel monac...</td>\n",
       "      <td>5</td>\n",
       "      <td>unique, great stay, wonderful time hotel monac...</td>\n",
       "      <td>unique, great stay, wonderful time hotel monac...</td>\n",
       "      <td>unique great stay wonderful time hotel monaco ...</td>\n",
       "      <td>[unique, great, stay, wonderful, time, hotel, ...</td>\n",
       "      <td>[uniqu, great, stay, wonder, time, hotel, mona...</td>\n",
       "    </tr>\n",
       "    <tr>\n",
       "      <th>4</th>\n",
       "      <td>great stay great stay, went seahawk game aweso...</td>\n",
       "      <td>5</td>\n",
       "      <td>great stay great stay, went seahawk game aweso...</td>\n",
       "      <td>great stay great stay, went seahawk game aweso...</td>\n",
       "      <td>great stay great stay went seahawk game awesom...</td>\n",
       "      <td>[great, stay, great, stay, went, seahawk, game...</td>\n",
       "      <td>[great, stay, great, stay, went, seahawk, game...</td>\n",
       "    </tr>\n",
       "  </tbody>\n",
       "</table>\n",
       "</div>"
      ]
     },
     "execution_count": 68,
     "metadata": {},
     "output_type": "execute_result"
    }
   ],
   "execution_count": 68
  },
  {
   "metadata": {
    "ExecuteTime": {
     "end_time": "2025-09-15T17:27:54.679143Z",
     "start_time": "2025-09-15T17:27:54.675791Z"
    }
   },
   "cell_type": "code",
   "source": "lemmatizer = WordNetLemmatizer()",
   "id": "d43f139b5a2f6250",
   "outputs": [],
   "execution_count": 71
  },
  {
   "metadata": {
    "ExecuteTime": {
     "end_time": "2025-09-15T17:27:59.270905Z",
     "start_time": "2025-09-15T17:27:55.305177Z"
    }
   },
   "cell_type": "code",
   "source": "data['lemmatized'] = data['Tokenized'].apply(lambda tokens: [lemmatizer.lemmatize(token) for token in tokens])",
   "id": "795cf8396ea7b934",
   "outputs": [],
   "execution_count": 72
  },
  {
   "metadata": {
    "ExecuteTime": {
     "end_time": "2025-09-15T17:28:13.385993Z",
     "start_time": "2025-09-15T17:28:13.380014Z"
    }
   },
   "cell_type": "code",
   "source": "data['lemmatized'][0]",
   "id": "d3b78f163efabcba",
   "outputs": [
    {
     "data": {
      "text/plain": [
       "['nice',\n",
       " 'hotel',\n",
       " 'expensive',\n",
       " 'parking',\n",
       " 'got',\n",
       " 'good',\n",
       " 'deal',\n",
       " 'stay',\n",
       " 'hotel',\n",
       " 'anniversary',\n",
       " 'arrived',\n",
       " 'late',\n",
       " 'evening',\n",
       " 'took',\n",
       " 'advice',\n",
       " 'previous',\n",
       " 'review',\n",
       " 'valet',\n",
       " 'parking',\n",
       " 'check',\n",
       " 'quick',\n",
       " 'easy',\n",
       " 'little',\n",
       " 'disappointed',\n",
       " 'nonexistent',\n",
       " 'view',\n",
       " 'room',\n",
       " 'room',\n",
       " 'clean',\n",
       " 'nice',\n",
       " 'size',\n",
       " 'bed',\n",
       " 'comfortable',\n",
       " 'woke',\n",
       " 'stiff',\n",
       " 'neck',\n",
       " 'high',\n",
       " 'pillow',\n",
       " 'not',\n",
       " 'soundproof',\n",
       " 'like',\n",
       " 'heard',\n",
       " 'music',\n",
       " 'room',\n",
       " 'night',\n",
       " 'morning',\n",
       " 'loud',\n",
       " 'bang',\n",
       " 'door',\n",
       " 'opening',\n",
       " 'closing',\n",
       " 'hear',\n",
       " 'people',\n",
       " 'talking',\n",
       " 'hallway',\n",
       " 'maybe',\n",
       " 'noisy',\n",
       " 'neighbor',\n",
       " 'aveda',\n",
       " 'bath',\n",
       " 'product',\n",
       " 'nice',\n",
       " 'not',\n",
       " 'goldfish',\n",
       " 'stay',\n",
       " 'nice',\n",
       " 'touch',\n",
       " 'taken',\n",
       " 'advantage',\n",
       " 'staying',\n",
       " 'longer',\n",
       " 'location',\n",
       " 'great',\n",
       " 'walking',\n",
       " 'distance',\n",
       " 'shopping',\n",
       " 'overall',\n",
       " 'nice',\n",
       " 'experience',\n",
       " 'pay',\n",
       " '40',\n",
       " 'parking',\n",
       " 'night']"
      ]
     },
     "execution_count": 73,
     "metadata": {},
     "output_type": "execute_result"
    }
   ],
   "execution_count": 73
  },
  {
   "metadata": {
    "ExecuteTime": {
     "end_time": "2025-09-15T17:29:06.346827Z",
     "start_time": "2025-09-15T17:29:06.334420Z"
    }
   },
   "cell_type": "code",
   "source": "token_clean = sum(data['lemmatized'], [])",
   "id": "a65699928d2d8313",
   "outputs": [],
   "execution_count": 75
  },
  {
   "metadata": {
    "ExecuteTime": {
     "end_time": "2025-09-15T17:31:02.900626Z",
     "start_time": "2025-09-15T17:31:02.876679Z"
    }
   },
   "cell_type": "code",
   "source": [
    "unigrams = (pd.Series(nltk.ngrams(token_clean, 1)).value_counts())\n",
    "print(unigrams)"
   ],
   "id": "269b0a91e5f34af8",
   "outputs": [
    {
     "name": "stdout",
     "output_type": "stream",
     "text": [
      "(hotel,)          292\n",
      "(room,)           275\n",
      "(great,)          126\n",
      "(not,)            122\n",
      "(stay,)            95\n",
      "                 ... \n",
      "(electronic,)       1\n",
      "(blind,)            1\n",
      "(breakfasted,)      1\n",
      "(stocked,)          1\n",
      "(breakast,)         1\n",
      "Name: count, Length: 2588, dtype: int64\n"
     ]
    }
   ],
   "execution_count": 79
  },
  {
   "metadata": {
    "ExecuteTime": {
     "end_time": "2025-09-15T17:31:05.744361Z",
     "start_time": "2025-09-15T17:31:05.728912Z"
    }
   },
   "cell_type": "code",
   "source": [
    "bigrams = (pd.Series(nltk.ngrams(token_clean, 2)).value_counts())\n",
    "print(bigrams)"
   ],
   "id": "305a0312a6b53084",
   "outputs": [
    {
     "name": "stdout",
     "output_type": "stream",
     "text": [
      "(great, location)          24\n",
      "(space, needle)            21\n",
      "(hotel, monaco)            16\n",
      "(pike, place)              12\n",
      "(great, view)              12\n",
      "                           ..\n",
      "(looking, decorated)        1\n",
      "(decorated, maintained)     1\n",
      "(maintained, staff)         1\n",
      "(professional, large)       1\n",
      "(large, room)               1\n",
      "Name: count, Length: 8262, dtype: int64\n"
     ]
    }
   ],
   "execution_count": 80
  }
 ],
 "metadata": {
  "kernelspec": {
   "display_name": "Python 3",
   "language": "python",
   "name": "python3"
  },
  "language_info": {
   "codemirror_mode": {
    "name": "ipython",
    "version": 2
   },
   "file_extension": ".py",
   "mimetype": "text/x-python",
   "name": "python",
   "nbconvert_exporter": "python",
   "pygments_lexer": "ipython2",
   "version": "2.7.6"
  }
 },
 "nbformat": 4,
 "nbformat_minor": 5
}
