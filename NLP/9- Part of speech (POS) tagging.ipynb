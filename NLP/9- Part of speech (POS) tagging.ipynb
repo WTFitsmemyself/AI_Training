{
 "cells": [
  {
   "cell_type": "code",
   "id": "initial_id",
   "metadata": {
    "collapsed": true,
    "ExecuteTime": {
     "end_time": "2025-09-19T09:46:48.549738Z",
     "start_time": "2025-09-19T09:46:44.811648Z"
    }
   },
   "source": [
    "import pandas as pd\n",
    "import spacy"
   ],
   "outputs": [],
   "execution_count": 2
  },
  {
   "metadata": {
    "ExecuteTime": {
     "end_time": "2025-09-19T09:46:50.277391Z",
     "start_time": "2025-09-19T09:46:48.569533Z"
    }
   },
   "cell_type": "code",
   "source": "nlp = spacy.load(\"en_core_web_sm\")",
   "id": "84a551598fd95550",
   "outputs": [],
   "execution_count": 3
  },
  {
   "metadata": {
    "ExecuteTime": {
     "end_time": "2025-09-19T09:46:50.337565Z",
     "start_time": "2025-09-19T09:46:50.326224Z"
    }
   },
   "cell_type": "code",
   "source": "text = \"Life often presents us und with challenges that seem overwhelming, but it is in those very moments that our strength is revealed. Every obstacle carries within it an opportunity—not only to grow, but to inspire others by the way we rise. Success is not measured solely by what we achieve, but by the resilience we show, the kindness we extend, and the courage we display when the path ahead feels uncertain. Let us remember that each small step forward is still progress, and together, with determination and hope, we can turn difficulties into stepping stones toward a brighter tomorrow.\"",
   "id": "2b1e25de2d485ecc",
   "outputs": [],
   "execution_count": 4
  },
  {
   "metadata": {
    "ExecuteTime": {
     "end_time": "2025-09-19T09:46:50.449278Z",
     "start_time": "2025-09-19T09:46:50.358069Z"
    }
   },
   "cell_type": "code",
   "source": "spacy_doc = nlp(text)",
   "id": "cfa5344f06985557",
   "outputs": [],
   "execution_count": 5
  },
  {
   "metadata": {
    "ExecuteTime": {
     "end_time": "2025-09-19T09:46:50.585406Z",
     "start_time": "2025-09-19T09:46:50.468260Z"
    }
   },
   "cell_type": "code",
   "source": [
    "pos_df = pd.DataFrame(columns=[\"token\", \"pos_tag\"])\n",
    "for token in spacy_doc:\n",
    "    pos_df = pd.concat([pos_df,\n",
    "                        pd.DataFrame.from_records([{'token': token.text, 'pos_tag': token.pos_}])], ignore_index=True)"
   ],
   "id": "f9ead792f6ba4613",
   "outputs": [],
   "execution_count": 6
  },
  {
   "metadata": {
    "ExecuteTime": {
     "end_time": "2025-09-19T09:46:50.651912Z",
     "start_time": "2025-09-19T09:46:50.607213Z"
    }
   },
   "cell_type": "code",
   "source": "pos_df.head(15)",
   "id": "7151b0fcd2921fb2",
   "outputs": [
    {
     "data": {
      "text/plain": [
       "           token pos_tag\n",
       "0           Life    NOUN\n",
       "1          often     ADV\n",
       "2       presents    VERB\n",
       "3             us    PRON\n",
       "4            und    VERB\n",
       "5           with     ADP\n",
       "6     challenges    NOUN\n",
       "7           that    PRON\n",
       "8           seem    VERB\n",
       "9   overwhelming     ADJ\n",
       "10             ,   PUNCT\n",
       "11           but   CCONJ\n",
       "12            it    PRON\n",
       "13            is     AUX\n",
       "14            in     ADP"
      ],
      "text/html": [
       "<div>\n",
       "<style scoped>\n",
       "    .dataframe tbody tr th:only-of-type {\n",
       "        vertical-align: middle;\n",
       "    }\n",
       "\n",
       "    .dataframe tbody tr th {\n",
       "        vertical-align: top;\n",
       "    }\n",
       "\n",
       "    .dataframe thead th {\n",
       "        text-align: right;\n",
       "    }\n",
       "</style>\n",
       "<table border=\"1\" class=\"dataframe\">\n",
       "  <thead>\n",
       "    <tr style=\"text-align: right;\">\n",
       "      <th></th>\n",
       "      <th>token</th>\n",
       "      <th>pos_tag</th>\n",
       "    </tr>\n",
       "  </thead>\n",
       "  <tbody>\n",
       "    <tr>\n",
       "      <th>0</th>\n",
       "      <td>Life</td>\n",
       "      <td>NOUN</td>\n",
       "    </tr>\n",
       "    <tr>\n",
       "      <th>1</th>\n",
       "      <td>often</td>\n",
       "      <td>ADV</td>\n",
       "    </tr>\n",
       "    <tr>\n",
       "      <th>2</th>\n",
       "      <td>presents</td>\n",
       "      <td>VERB</td>\n",
       "    </tr>\n",
       "    <tr>\n",
       "      <th>3</th>\n",
       "      <td>us</td>\n",
       "      <td>PRON</td>\n",
       "    </tr>\n",
       "    <tr>\n",
       "      <th>4</th>\n",
       "      <td>und</td>\n",
       "      <td>VERB</td>\n",
       "    </tr>\n",
       "    <tr>\n",
       "      <th>5</th>\n",
       "      <td>with</td>\n",
       "      <td>ADP</td>\n",
       "    </tr>\n",
       "    <tr>\n",
       "      <th>6</th>\n",
       "      <td>challenges</td>\n",
       "      <td>NOUN</td>\n",
       "    </tr>\n",
       "    <tr>\n",
       "      <th>7</th>\n",
       "      <td>that</td>\n",
       "      <td>PRON</td>\n",
       "    </tr>\n",
       "    <tr>\n",
       "      <th>8</th>\n",
       "      <td>seem</td>\n",
       "      <td>VERB</td>\n",
       "    </tr>\n",
       "    <tr>\n",
       "      <th>9</th>\n",
       "      <td>overwhelming</td>\n",
       "      <td>ADJ</td>\n",
       "    </tr>\n",
       "    <tr>\n",
       "      <th>10</th>\n",
       "      <td>,</td>\n",
       "      <td>PUNCT</td>\n",
       "    </tr>\n",
       "    <tr>\n",
       "      <th>11</th>\n",
       "      <td>but</td>\n",
       "      <td>CCONJ</td>\n",
       "    </tr>\n",
       "    <tr>\n",
       "      <th>12</th>\n",
       "      <td>it</td>\n",
       "      <td>PRON</td>\n",
       "    </tr>\n",
       "    <tr>\n",
       "      <th>13</th>\n",
       "      <td>is</td>\n",
       "      <td>AUX</td>\n",
       "    </tr>\n",
       "    <tr>\n",
       "      <th>14</th>\n",
       "      <td>in</td>\n",
       "      <td>ADP</td>\n",
       "    </tr>\n",
       "  </tbody>\n",
       "</table>\n",
       "</div>"
      ]
     },
     "execution_count": 7,
     "metadata": {},
     "output_type": "execute_result"
    }
   ],
   "execution_count": 7
  },
  {
   "metadata": {
    "ExecuteTime": {
     "end_time": "2025-09-19T09:47:01.578821Z",
     "start_time": "2025-09-19T09:47:01.569655Z"
    }
   },
   "cell_type": "code",
   "source": "pos_df_counts = pos_df.groupby(['token', 'pos_tag']).size().reset_index(name='counts').sort_values(by='counts', ascending=False)",
   "id": "db7b0501b3b57085",
   "outputs": [],
   "execution_count": 9
  },
  {
   "metadata": {
    "ExecuteTime": {
     "end_time": "2025-09-19T09:47:28.361620Z",
     "start_time": "2025-09-19T09:47:28.348195Z"
    }
   },
   "cell_type": "code",
   "source": "pos_df_counts.head(10)",
   "id": "dc5123050000b9d3",
   "outputs": [
    {
     "data": {
      "text/plain": [
       "   token pos_tag  counts\n",
       "0      ,   PUNCT       8\n",
       "73    we    PRON       6\n",
       "61   the     DET       5\n",
       "1      .   PUNCT       4\n",
       "30    is     AUX       4\n",
       "12   but   CCONJ       3\n",
       "10   and   CCONJ       3\n",
       "13    by     ADP       3\n",
       "70    us    PRON       2\n",
       "63    to    PART       2"
      ],
      "text/html": [
       "<div>\n",
       "<style scoped>\n",
       "    .dataframe tbody tr th:only-of-type {\n",
       "        vertical-align: middle;\n",
       "    }\n",
       "\n",
       "    .dataframe tbody tr th {\n",
       "        vertical-align: top;\n",
       "    }\n",
       "\n",
       "    .dataframe thead th {\n",
       "        text-align: right;\n",
       "    }\n",
       "</style>\n",
       "<table border=\"1\" class=\"dataframe\">\n",
       "  <thead>\n",
       "    <tr style=\"text-align: right;\">\n",
       "      <th></th>\n",
       "      <th>token</th>\n",
       "      <th>pos_tag</th>\n",
       "      <th>counts</th>\n",
       "    </tr>\n",
       "  </thead>\n",
       "  <tbody>\n",
       "    <tr>\n",
       "      <th>0</th>\n",
       "      <td>,</td>\n",
       "      <td>PUNCT</td>\n",
       "      <td>8</td>\n",
       "    </tr>\n",
       "    <tr>\n",
       "      <th>73</th>\n",
       "      <td>we</td>\n",
       "      <td>PRON</td>\n",
       "      <td>6</td>\n",
       "    </tr>\n",
       "    <tr>\n",
       "      <th>61</th>\n",
       "      <td>the</td>\n",
       "      <td>DET</td>\n",
       "      <td>5</td>\n",
       "    </tr>\n",
       "    <tr>\n",
       "      <th>1</th>\n",
       "      <td>.</td>\n",
       "      <td>PUNCT</td>\n",
       "      <td>4</td>\n",
       "    </tr>\n",
       "    <tr>\n",
       "      <th>30</th>\n",
       "      <td>is</td>\n",
       "      <td>AUX</td>\n",
       "      <td>4</td>\n",
       "    </tr>\n",
       "    <tr>\n",
       "      <th>12</th>\n",
       "      <td>but</td>\n",
       "      <td>CCONJ</td>\n",
       "      <td>3</td>\n",
       "    </tr>\n",
       "    <tr>\n",
       "      <th>10</th>\n",
       "      <td>and</td>\n",
       "      <td>CCONJ</td>\n",
       "      <td>3</td>\n",
       "    </tr>\n",
       "    <tr>\n",
       "      <th>13</th>\n",
       "      <td>by</td>\n",
       "      <td>ADP</td>\n",
       "      <td>3</td>\n",
       "    </tr>\n",
       "    <tr>\n",
       "      <th>70</th>\n",
       "      <td>us</td>\n",
       "      <td>PRON</td>\n",
       "      <td>2</td>\n",
       "    </tr>\n",
       "    <tr>\n",
       "      <th>63</th>\n",
       "      <td>to</td>\n",
       "      <td>PART</td>\n",
       "      <td>2</td>\n",
       "    </tr>\n",
       "  </tbody>\n",
       "</table>\n",
       "</div>"
      ]
     },
     "execution_count": 10,
     "metadata": {},
     "output_type": "execute_result"
    }
   ],
   "execution_count": 10
  },
  {
   "metadata": {
    "ExecuteTime": {
     "end_time": "2025-09-19T09:50:04.723433Z",
     "start_time": "2025-09-19T09:50:04.713215Z"
    }
   },
   "cell_type": "code",
   "source": "pos_df_poscounts = pos_df_counts.groupby(['pos_tag'])['token'].count().sort_values(ascending=False)",
   "id": "e8231fdf9db11f15",
   "outputs": [],
   "execution_count": 12
  },
  {
   "metadata": {
    "ExecuteTime": {
     "end_time": "2025-09-19T09:50:36.617572Z",
     "start_time": "2025-09-19T09:50:36.609074Z"
    }
   },
   "cell_type": "code",
   "source": "pos_df_poscounts.head(10)",
   "id": "4d04155fb6130560",
   "outputs": [
    {
     "data": {
      "text/plain": [
       "pos_tag\n",
       "NOUN     21\n",
       "VERB     17\n",
       "ADV       7\n",
       "ADP       6\n",
       "PRON      6\n",
       "DET       6\n",
       "ADJ       5\n",
       "PUNCT     3\n",
       "AUX       2\n",
       "CCONJ     2\n",
       "Name: token, dtype: int64"
      ]
     },
     "execution_count": 13,
     "metadata": {},
     "output_type": "execute_result"
    }
   ],
   "execution_count": 13
  },
  {
   "metadata": {
    "ExecuteTime": {
     "end_time": "2025-09-19T09:52:57.726803Z",
     "start_time": "2025-09-19T09:52:57.720813Z"
    }
   },
   "cell_type": "code",
   "source": "nouns = pos_df_counts[pos_df_counts.pos_tag == 'NOUN'][:10]",
   "id": "1cfc33f25c155ca",
   "outputs": [],
   "execution_count": 16
  },
  {
   "metadata": {
    "ExecuteTime": {
     "end_time": "2025-09-19T09:53:52.205755Z",
     "start_time": "2025-09-19T09:53:52.187936Z"
    }
   },
   "cell_type": "code",
   "source": "print(nouns)",
   "id": "a4c2ead7e3c8209e",
   "outputs": [
    {
     "name": "stdout",
     "output_type": "stream",
     "text": [
      "           token pos_tag  counts\n",
      "11      brighter    NOUN       1\n",
      "4           Life    NOUN       1\n",
      "5        Success    NOUN       1\n",
      "19  difficulties    NOUN       1\n",
      "17       courage    NOUN       1\n",
      "16    challenges    NOUN       1\n",
      "32      kindness    NOUN       1\n",
      "34       moments    NOUN       1\n",
      "36      obstacle    NOUN       1\n",
      "39   opportunity    NOUN       1\n"
     ]
    }
   ],
   "execution_count": 18
  },
  {
   "metadata": {
    "ExecuteTime": {
     "end_time": "2025-09-19T09:54:16.741661Z",
     "start_time": "2025-09-19T09:54:16.736165Z"
    }
   },
   "cell_type": "code",
   "source": "adj = pos_df_counts[pos_df_counts.pos_tag == 'ADJ'][:10]",
   "id": "ee676561165ad43f",
   "outputs": [],
   "execution_count": 19
  },
  {
   "metadata": {},
   "cell_type": "code",
   "outputs": [],
   "execution_count": null,
   "source": "adj",
   "id": "457b1e107de1f2db"
  }
 ],
 "metadata": {
  "kernelspec": {
   "display_name": "Python 3",
   "language": "python",
   "name": "python3"
  },
  "language_info": {
   "codemirror_mode": {
    "name": "ipython",
    "version": 2
   },
   "file_extension": ".py",
   "mimetype": "text/x-python",
   "name": "python",
   "nbconvert_exporter": "python",
   "pygments_lexer": "ipython2",
   "version": "2.7.6"
  }
 },
 "nbformat": 4,
 "nbformat_minor": 5
}
