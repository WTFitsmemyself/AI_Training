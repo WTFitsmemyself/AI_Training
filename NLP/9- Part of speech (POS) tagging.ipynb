{
 "cells": [
  {
   "cell_type": "code",
   "id": "initial_id",
   "metadata": {
    "collapsed": true,
    "ExecuteTime": {
     "end_time": "2025-09-16T15:15:25.164420Z",
     "start_time": "2025-09-16T15:15:25.160819Z"
    }
   },
   "source": [
    "import pandas as pd\n",
    "import spacy"
   ],
   "outputs": [],
   "execution_count": 12
  },
  {
   "metadata": {
    "ExecuteTime": {
     "end_time": "2025-09-16T15:15:25.894640Z",
     "start_time": "2025-09-16T15:15:25.193868Z"
    }
   },
   "cell_type": "code",
   "source": "nlp = spacy.load(\"en_core_web_sm\")",
   "id": "84a551598fd95550",
   "outputs": [],
   "execution_count": 13
  },
  {
   "metadata": {
    "ExecuteTime": {
     "end_time": "2025-09-16T15:15:25.924764Z",
     "start_time": "2025-09-16T15:15:25.919263Z"
    }
   },
   "cell_type": "code",
   "source": "text = \"Life often presents us und with challenges that seem overwhelming, but it is in those very moments that our strength is revealed. Every obstacle carries within it an opportunity—not only to grow, but to inspire others by the way we rise. Success is not measured solely by what we achieve, but by the resilience we show, the kindness we extend, and the courage we display when the path ahead feels uncertain. Let us remember that each small step forward is still progress, and together, with determination and hope, we can turn difficulties into stepping stones toward a brighter tomorrow.\"",
   "id": "2b1e25de2d485ecc",
   "outputs": [],
   "execution_count": 14
  },
  {
   "metadata": {
    "ExecuteTime": {
     "end_time": "2025-09-16T15:16:03.472193Z",
     "start_time": "2025-09-16T15:16:03.422149Z"
    }
   },
   "cell_type": "code",
   "source": "spacy_doc = nlp(text)",
   "id": "cfa5344f06985557",
   "outputs": [],
   "execution_count": 16
  },
  {
   "metadata": {
    "ExecuteTime": {
     "end_time": "2025-09-16T15:20:47.922488Z",
     "start_time": "2025-09-16T15:20:47.807629Z"
    }
   },
   "cell_type": "code",
   "source": [
    "pos_df = pd.DataFrame(columns=[\"token\", \"pos_tag\"])\n",
    "for token in spacy_doc:\n",
    "    pos_df = pd.concat([pos_df,\n",
    "                        pd.DataFrame.from_records([{'token': token.text, 'pos_tag': token.pos_}])], ignore_index=True)"
   ],
   "id": "f9ead792f6ba4613",
   "outputs": [],
   "execution_count": 17
  },
  {
   "metadata": {
    "ExecuteTime": {
     "end_time": "2025-09-16T15:20:55.118169Z",
     "start_time": "2025-09-16T15:20:55.094209Z"
    }
   },
   "cell_type": "code",
   "source": "pos_df.head(15)",
   "id": "7151b0fcd2921fb2",
   "outputs": [
    {
     "data": {
      "text/plain": [
       "           token pos_tag\n",
       "0           Life    NOUN\n",
       "1          often     ADV\n",
       "2       presents    VERB\n",
       "3             us    PRON\n",
       "4           with     ADP\n",
       "5     challenges    NOUN\n",
       "6           that    PRON\n",
       "7           seem    VERB\n",
       "8   overwhelming     ADJ\n",
       "9              ,   PUNCT\n",
       "10           but   CCONJ\n",
       "11            it    PRON\n",
       "12            is     AUX\n",
       "13            in     ADP\n",
       "14         those     DET"
      ],
      "text/html": [
       "<div>\n",
       "<style scoped>\n",
       "    .dataframe tbody tr th:only-of-type {\n",
       "        vertical-align: middle;\n",
       "    }\n",
       "\n",
       "    .dataframe tbody tr th {\n",
       "        vertical-align: top;\n",
       "    }\n",
       "\n",
       "    .dataframe thead th {\n",
       "        text-align: right;\n",
       "    }\n",
       "</style>\n",
       "<table border=\"1\" class=\"dataframe\">\n",
       "  <thead>\n",
       "    <tr style=\"text-align: right;\">\n",
       "      <th></th>\n",
       "      <th>token</th>\n",
       "      <th>pos_tag</th>\n",
       "    </tr>\n",
       "  </thead>\n",
       "  <tbody>\n",
       "    <tr>\n",
       "      <th>0</th>\n",
       "      <td>Life</td>\n",
       "      <td>NOUN</td>\n",
       "    </tr>\n",
       "    <tr>\n",
       "      <th>1</th>\n",
       "      <td>often</td>\n",
       "      <td>ADV</td>\n",
       "    </tr>\n",
       "    <tr>\n",
       "      <th>2</th>\n",
       "      <td>presents</td>\n",
       "      <td>VERB</td>\n",
       "    </tr>\n",
       "    <tr>\n",
       "      <th>3</th>\n",
       "      <td>us</td>\n",
       "      <td>PRON</td>\n",
       "    </tr>\n",
       "    <tr>\n",
       "      <th>4</th>\n",
       "      <td>with</td>\n",
       "      <td>ADP</td>\n",
       "    </tr>\n",
       "    <tr>\n",
       "      <th>5</th>\n",
       "      <td>challenges</td>\n",
       "      <td>NOUN</td>\n",
       "    </tr>\n",
       "    <tr>\n",
       "      <th>6</th>\n",
       "      <td>that</td>\n",
       "      <td>PRON</td>\n",
       "    </tr>\n",
       "    <tr>\n",
       "      <th>7</th>\n",
       "      <td>seem</td>\n",
       "      <td>VERB</td>\n",
       "    </tr>\n",
       "    <tr>\n",
       "      <th>8</th>\n",
       "      <td>overwhelming</td>\n",
       "      <td>ADJ</td>\n",
       "    </tr>\n",
       "    <tr>\n",
       "      <th>9</th>\n",
       "      <td>,</td>\n",
       "      <td>PUNCT</td>\n",
       "    </tr>\n",
       "    <tr>\n",
       "      <th>10</th>\n",
       "      <td>but</td>\n",
       "      <td>CCONJ</td>\n",
       "    </tr>\n",
       "    <tr>\n",
       "      <th>11</th>\n",
       "      <td>it</td>\n",
       "      <td>PRON</td>\n",
       "    </tr>\n",
       "    <tr>\n",
       "      <th>12</th>\n",
       "      <td>is</td>\n",
       "      <td>AUX</td>\n",
       "    </tr>\n",
       "    <tr>\n",
       "      <th>13</th>\n",
       "      <td>in</td>\n",
       "      <td>ADP</td>\n",
       "    </tr>\n",
       "    <tr>\n",
       "      <th>14</th>\n",
       "      <td>those</td>\n",
       "      <td>DET</td>\n",
       "    </tr>\n",
       "  </tbody>\n",
       "</table>\n",
       "</div>"
      ]
     },
     "execution_count": 18,
     "metadata": {},
     "output_type": "execute_result"
    }
   ],
   "execution_count": 18
  }
 ],
 "metadata": {
  "kernelspec": {
   "display_name": "Python 3",
   "language": "python",
   "name": "python3"
  },
  "language_info": {
   "codemirror_mode": {
    "name": "ipython",
    "version": 2
   },
   "file_extension": ".py",
   "mimetype": "text/x-python",
   "name": "python",
   "nbconvert_exporter": "python",
   "pygments_lexer": "ipython2",
   "version": "2.7.6"
  }
 },
 "nbformat": 4,
 "nbformat_minor": 5
}
