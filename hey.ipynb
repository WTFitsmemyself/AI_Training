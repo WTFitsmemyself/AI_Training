{
 "cells": [
  {
   "cell_type": "code",
   "id": "6654416114f0d685",
   "metadata": {
    "ExecuteTime": {
     "end_time": "2025-09-14T11:07:55.608745Z",
     "start_time": "2025-09-14T11:07:55.603718Z"
    }
   },
   "source": [
    "def hey(x):\n",
    "    return x + 10"
   ],
   "outputs": [],
   "execution_count": 5
  },
  {
   "cell_type": "code",
   "id": "db84e9ed",
   "metadata": {
    "ExecuteTime": {
     "end_time": "2025-09-14T11:07:55.678763Z",
     "start_time": "2025-09-14T11:07:55.671637Z"
    }
   },
   "source": [
    "print(\"Not Gonna Happen\")"
   ],
   "outputs": [
    {
     "name": "stdout",
     "output_type": "stream",
     "text": [
      "Not Gonna Happen\n"
     ]
    }
   ],
   "execution_count": 6
  },
  {
   "cell_type": "code",
   "id": "bc370535",
   "metadata": {
    "ExecuteTime": {
     "end_time": "2025-09-14T11:07:55.784613Z",
     "start_time": "2025-09-14T11:07:55.780024Z"
    }
   },
   "source": [
    "fruits = ['Banana', 'Apple', 'Kiwi']\n",
    "x = 0\n",
    "for fruit in fruits:\n",
    "    x += 1\n",
    "    print(fruit, end=\" \")\n",
    "\n",
    "print(x)"
   ],
   "outputs": [
    {
     "name": "stdout",
     "output_type": "stream",
     "text": [
      "Banana Apple Kiwi 3\n"
     ]
    }
   ],
   "execution_count": 7
  },
  {
   "cell_type": "code",
   "id": "4f7f5c49",
   "metadata": {
    "ExecuteTime": {
     "end_time": "2025-09-14T11:07:55.888440Z",
     "start_time": "2025-09-14T11:07:55.882880Z"
    }
   },
   "source": [
    "Fruits = ['Banana', 'Apple', 'Kiwi']\n",
    "for fruit in Fruits:\n",
    "    print(fruit.lower(), end=\" \")"
   ],
   "outputs": [
    {
     "name": "stdout",
     "output_type": "stream",
     "text": [
      "banana apple kiwi "
     ]
    }
   ],
   "execution_count": 8
  },
  {
   "metadata": {
    "ExecuteTime": {
     "end_time": "2025-09-14T11:08:52.525621Z",
     "start_time": "2025-09-14T11:08:52.501647Z"
    }
   },
   "cell_type": "code",
   "source": "print(len(Fruits))",
   "id": "9915bdbe00b719cd",
   "outputs": [
    {
     "name": "stdout",
     "output_type": "stream",
     "text": [
      "3\n"
     ]
    }
   ],
   "execution_count": 10
  }
 ],
 "metadata": {
  "kernelspec": {
   "display_name": "Python 3 (ipykernel)",
   "language": "python",
   "name": "python3"
  },
  "language_info": {
   "codemirror_mode": {
    "name": "ipython",
    "version": 3
   },
   "file_extension": ".py",
   "mimetype": "text/x-python",
   "name": "python",
   "nbconvert_exporter": "python",
   "pygments_lexer": "ipython3",
   "version": "3.10.4"
  }
 },
 "nbformat": 4,
 "nbformat_minor": 5
}
